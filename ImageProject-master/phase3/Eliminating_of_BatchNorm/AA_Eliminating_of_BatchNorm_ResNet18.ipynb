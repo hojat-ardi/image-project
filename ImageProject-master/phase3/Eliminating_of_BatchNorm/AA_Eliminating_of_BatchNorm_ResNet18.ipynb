{
  "cells": [
    {
      "cell_type": "code",
      "execution_count": 5,
      "metadata": {
        "colab": {
          "base_uri": "https://localhost:8080/"
        },
        "id": "mD1KaZKW9SmW",
        "outputId": "6cc59ad4-b2d7-466b-bf8b-d405a557f5cb"
      },
      "outputs": [
        {
          "name": "stdout",
          "output_type": "stream",
          "text": [
            "Mounted at /content/gdrive\n"
          ]
        }
      ],
      "source": [
        "from google.colab import drive\n",
        "drive.mount('/content/gdrive')"
      ]
    },
    {
      "cell_type": "code",
      "execution_count": 1,
      "metadata": {
        "id": "KSAW4Eg2vsJ7"
      },
      "outputs": [],
      "source": [
        "from IPython.display import clear_output"
      ]
    },
    {
      "cell_type": "code",
      "execution_count": 2,
      "metadata": {
        "colab": {
          "base_uri": "https://localhost:8080/"
        },
        "id": "uUa3h_oG21ih",
        "outputId": "48520344-38e6-4041-87ca-cec47566afc7"
      },
      "outputs": [
        {
          "name": "stdout",
          "output_type": "stream",
          "text": [
            "Collecting git+https://github.com/fra31/auto-attack\n",
            "  Cloning https://github.com/fra31/auto-attack to /tmp/pip-req-build-a9eqkqno\n",
            "  Running command git clone --filter=blob:none --quiet https://github.com/fra31/auto-attack /tmp/pip-req-build-a9eqkqno\n",
            "  Resolved https://github.com/fra31/auto-attack to commit a39220048b3c9f2cca9a4d3a54604793c68eca7e\n",
            "  Preparing metadata (setup.py) ... \u001b[?25l\u001b[?25hdone\n",
            "Building wheels for collected packages: autoattack\n",
            "  Building wheel for autoattack (setup.py) ... \u001b[?25l\u001b[?25hdone\n",
            "  Created wheel for autoattack: filename=autoattack-0.1-py3-none-any.whl size=36229 sha256=f732c64d3152e8c1726abba16dd9eb8b20e0a3143d156a4c52ce175b65bfaa9a\n",
            "  Stored in directory: /tmp/pip-ephem-wheel-cache-c3k0szxo/wheels/b7/17/95/4b16fafe1b84fdabd247eb5f01b41165bd98d4c82d64ab93d2\n",
            "Successfully built autoattack\n",
            "Installing collected packages: autoattack\n",
            "Successfully installed autoattack-0.1\n"
          ]
        }
      ],
      "source": [
        "!pip install git+https://github.com/fra31/auto-attack"
      ]
    },
    {
      "cell_type": "code",
      "execution_count": 3,
      "metadata": {
        "colab": {
          "base_uri": "https://localhost:8080/"
        },
        "id": "CzgFQRV726Vh",
        "outputId": "8657235e-f03b-4a32-c741-73d096452408"
      },
      "outputs": [
        {
          "name": "stdout",
          "output_type": "stream",
          "text": [
            "Cloning into 'auto-attack'...\n",
            "remote: Enumerating objects: 672, done.\u001b[K\n",
            "remote: Counting objects: 100% (209/209), done.\u001b[K\n",
            "remote: Compressing objects: 100% (68/68), done.\u001b[K\n",
            "remote: Total 672 (delta 162), reused 159 (delta 141), pack-reused 463\u001b[K\n",
            "Receiving objects: 100% (672/672), 40.63 MiB | 14.37 MiB/s, done.\n",
            "Resolving deltas: 100% (413/413), done.\n"
          ]
        }
      ],
      "source": [
        "! git clone https://github.com/fra31/auto-attack.git"
      ]
    },
    {
      "cell_type": "code",
      "execution_count": 4,
      "metadata": {
        "colab": {
          "base_uri": "https://localhost:8080/"
        },
        "id": "32ZiOt_L-iTF",
        "outputId": "47b7fc94-52b4-4427-a304-547e7a419c15"
      },
      "outputs": [
        {
          "name": "stdout",
          "output_type": "stream",
          "text": [
            "Cloning into 'image-project'...\n",
            "remote: Enumerating objects: 296, done.\u001b[K\n",
            "remote: Counting objects: 100% (185/185), done.\u001b[K\n",
            "remote: Compressing objects: 100% (105/105), done.\u001b[K\n",
            "remote: Total 296 (delta 60), reused 135 (delta 40), pack-reused 111\u001b[K\n",
            "Receiving objects: 100% (296/296), 39.81 MiB | 12.99 MiB/s, done.\n",
            "Resolving deltas: 100% (90/90), done.\n"
          ]
        }
      ],
      "source": [
        "! git clone https://github.com/hojat-ardi/image-project.git"
      ]
    },
    {
      "cell_type": "code",
      "execution_count": 11,
      "metadata": {
        "id": "eLhGg4rG9-Y0"
      },
      "outputs": [],
      "source": [
        "!cp /content/image-project/ImageProject-master/phase3/Eliminating_of_BatchNorm/resnet_Eliminating_of_BatchNorm.py  /content/auto-attack/autoattack/examples"
      ]
    },
    {
      "cell_type": "markdown",
      "metadata": {
        "id": "uacaJxYIHrqU"
      },
      "source": [
        "# AA-L2"
      ]
    },
    {
      "cell_type": "code",
      "execution_count": 12,
      "metadata": {
        "colab": {
          "base_uri": "https://localhost:8080/"
        },
        "id": "W_Xm7jlrvorq",
        "outputId": "61ae7b60-3058-4786-90d7-ebf094c657f2"
      },
      "outputs": [
        {
          "name": "stdout",
          "output_type": "stream",
          "text": [
            "/bin/bash: line 89: warning: here-document at line 0 delimited by end-of-file (wanted `EOF')\n"
          ]
        },
        {
          "data": {
            "text/plain": []
          },
          "execution_count": 12,
          "metadata": {},
          "output_type": "execute_result"
        }
      ],
      "source": [
        "%%shell\n",
        "cat > /content/auto-attack/autoattack/examples/eval.py << EOF\n",
        "\n",
        "\n",
        "import os\n",
        "import argparse\n",
        "from pathlib import Path\n",
        "import warnings\n",
        "\n",
        "import torch\n",
        "import torch.nn as nn\n",
        "import torchvision.datasets as datasets\n",
        "import torch.utils.data as data\n",
        "import torchvision.transforms as transforms\n",
        "\n",
        "import sys\n",
        "sys.path.insert(0,'..')\n",
        "from resnet_Eliminating_of_BatchNorm import *\n",
        "\n",
        "if __name__ == '__main__':\n",
        "    parser = argparse.ArgumentParser()\n",
        "    parser.add_argument('--data_dir', type=str, default='./data')\n",
        "    parser.add_argument('--norm', type=str, default='L2')\n",
        "    parser.add_argument('--epsilon', type=float, default=0.3)\n",
        "    #///////////////////////////////////////////////////////////////\n",
        "    parser.add_argument('--model', type=str, default='/content/gdrive/MyDrive/Eliminating_of_BatchNorm_ResNet18.pth')\n",
        "    #///////////////////////////////////////////////////////////////\n",
        "    parser.add_argument('--n_ex', type=int, default=1000)\n",
        "    parser.add_argument('--individual', action='store_true')\n",
        "    parser.add_argument('--save_dir', type=str, default='./results')\n",
        "    parser.add_argument('--batch_size', type=int, default=500)\n",
        "    parser.add_argument('--log_path', type=str, default='./log_file.txt')\n",
        "    parser.add_argument('--version', type=str, default='standard')\n",
        "    parser.add_argument('--state-path', type=Path, default=None)\n",
        "\n",
        "    args = parser.parse_args()\n",
        "\n",
        "    # load model\n",
        "    model = ResNet18()\n",
        "    #//////////////////////////////////////////////\n",
        "    model = nn.DataParallel(model)\n",
        "    ckpt = torch.load(args.model)\n",
        "    model.load_state_dict(ckpt['net'])\n",
        "    #//////////////////////////////////////////////\n",
        "    model.cuda()\n",
        "    model.eval()\n",
        "\n",
        "    # load data\n",
        "    Normalize = transforms.Normalize((0.4914, 0.4822, 0.4465), (0.2023, 0.1994, 0.2010))\n",
        "    transform_list = [transforms.ToTensor() , Normalize]\n",
        "    transform_chain = transforms.Compose(transform_list)\n",
        "    item = datasets.CIFAR10(root=args.data_dir, train=False, transform=transform_chain, download=True)\n",
        "    test_loader = data.DataLoader(item, batch_size=1000, shuffle=False, num_workers=0)\n",
        "\n",
        "    # create save dir\n",
        "    if not os.path.exists(args.save_dir):\n",
        "        os.makedirs(args.save_dir)\n",
        "\n",
        "    # load attack\n",
        "    from autoattack import AutoAttack\n",
        "    adversary = AutoAttack(model, norm=args.norm, eps=args.epsilon, log_path=args.log_path,\n",
        "        version=args.version)\n",
        "\n",
        "    l = [x for (x, y) in test_loader]\n",
        "    x_test = torch.cat(l, 0)\n",
        "    l = [y for (x, y) in test_loader]\n",
        "    y_test = torch.cat(l, 0)\n",
        "\n",
        "    # example of custom version\n",
        "    if args.version == 'custom':\n",
        "        adversary.attacks_to_run = ['apgd-ce', 'fab']\n",
        "        adversary.apgd.n_restarts = 2\n",
        "        adversary.fab.n_restarts = 2\n",
        "\n",
        "    # run attack and save images\n",
        "    with torch.no_grad():\n",
        "        if not args.individual:\n",
        "            adv_complete = adversary.run_standard_evaluation(x_test[:args.n_ex], y_test[:args.n_ex],\n",
        "                bs=args.batch_size, state_path=args.state_path)\n",
        "\n",
        "            torch.save({'adv_complete': adv_complete}, '{}/{}_{}_1_{}_eps_{:.5f}.pth'.format(\n",
        "                args.save_dir, 'aa', args.version, adv_complete.shape[0], args.epsilon))\n",
        "\n",
        "        else:\n",
        "            # individual version, each attack is run on all test points\n",
        "            adv_complete = adversary.run_standard_evaluation_individual(x_test[:args.n_ex],\n",
        "                y_test[:args.n_ex], bs=args.batch_size)\n",
        "\n",
        "            torch.save(adv_complete, '{}/{}_{}_individual_1_{}_eps_{:.5f}_plus_{}_cheap_{}.pth'.format(\n",
        "                args.save_dir, 'aa', args.version, args.n_ex, args.epsilon))\n",
        "\n"
      ]
    },
    {
      "cell_type": "markdown",
      "metadata": {
        "id": "E-w_BuvXCl5V"
      },
      "source": [
        "## Epsilon = 0.3"
      ]
    },
    {
      "cell_type": "code",
      "execution_count": 13,
      "metadata": {
        "colab": {
          "base_uri": "https://localhost:8080/"
        },
        "id": "2v4_N0Dkxpga",
        "outputId": "46b78311-c02b-4ae1-b638-c9e9d37dc0b4"
      },
      "outputs": [
        {
          "name": "stdout",
          "output_type": "stream",
          "text": [
            "Downloading https://www.cs.toronto.edu/~kriz/cifar-10-python.tar.gz to ./data/cifar-10-python.tar.gz\n",
            "100% 170498071/170498071 [00:13<00:00, 13026083.95it/s]\n",
            "Extracting ./data/cifar-10-python.tar.gz to ./data\n",
            "setting parameters for standard version\n",
            "using standard version including apgd-ce, apgd-t, fab-t, square.\n",
            "initial accuracy: 93.40%\n",
            "apgd-ce - 1/2 - 190 out of 500 successfully perturbed\n",
            "apgd-ce - 2/2 - 182 out of 434 successfully perturbed\n",
            "robust accuracy after APGD-CE: 56.20% (total time 49.4 s)\n",
            "apgd-t - 1/2 - 4 out of 500 successfully perturbed\n",
            "apgd-t - 2/2 - 0 out of 62 successfully perturbed\n",
            "robust accuracy after APGD-T: 55.80% (total time 322.4 s)\n",
            "fab-t - 1/2 - 0 out of 500 successfully perturbed\n",
            "fab-t - 2/2 - 0 out of 58 successfully perturbed\n",
            "robust accuracy after FAB-T: 55.80% (total time 810.0 s)\n",
            "square - 1/2 - 4 out of 500 successfully perturbed\n",
            "square - 2/2 - 0 out of 58 successfully perturbed\n",
            "robust accuracy after SQUARE: 55.40% (total time 1452.9 s)\n",
            "Warning: Square Attack has decreased the robust accuracy of 0.40%. This might indicate that the robustness evaluation using AutoAttack is unreliable. Consider running Square Attack with more iterations and restarts or an adaptive attack. See flags_doc.md for details.\n",
            "max L2 perturbation: 110.26619, nan in tensor: 0, max: 2.75373, min: -2.42907\n",
            "robust accuracy: 55.40%\n"
          ]
        }
      ],
      "source": [
        "epsilon = 0.3\n",
        "! python /content/auto-attack/autoattack/examples/eval.py --epsilon $epsilon"
      ]
    },
    {
      "cell_type": "markdown",
      "metadata": {
        "id": "awKVYO6qCAOO"
      },
      "source": [
        "## Epsilon = 0.4"
      ]
    },
    {
      "cell_type": "code",
      "execution_count": 14,
      "metadata": {
        "colab": {
          "base_uri": "https://localhost:8080/"
        },
        "id": "lc5mAcn30TpD",
        "outputId": "3f8ca3b2-258c-446c-df8f-73fd0cb14957"
      },
      "outputs": [
        {
          "name": "stdout",
          "output_type": "stream",
          "text": [
            "Files already downloaded and verified\n",
            "setting parameters for standard version\n",
            "using standard version including apgd-ce, apgd-t, fab-t, square.\n",
            "initial accuracy: 93.40%\n",
            "apgd-ce - 1/2 - 190 out of 500 successfully perturbed\n",
            "apgd-ce - 2/2 - 181 out of 434 successfully perturbed\n",
            "robust accuracy after APGD-CE: 56.30% (total time 50.9 s)\n",
            "apgd-t - 1/2 - 7 out of 500 successfully perturbed\n",
            "apgd-t - 2/2 - 0 out of 63 successfully perturbed\n",
            "robust accuracy after APGD-T: 55.60% (total time 324.6 s)\n",
            "fab-t - 1/2 - 0 out of 500 successfully perturbed\n",
            "fab-t - 2/2 - 0 out of 56 successfully perturbed\n",
            "robust accuracy after FAB-T: 55.60% (total time 810.4 s)\n",
            "square - 1/2 - 6 out of 500 successfully perturbed\n",
            "square - 2/2 - 0 out of 56 successfully perturbed\n",
            "robust accuracy after SQUARE: 55.00% (total time 1462.9 s)\n",
            "Warning: Square Attack has decreased the robust accuracy of 0.60%. This might indicate that the robustness evaluation using AutoAttack is unreliable. Consider running Square Attack with more iterations and restarts or an adaptive attack. See flags_doc.md for details.\n",
            "max L2 perturbation: 110.26619, nan in tensor: 0, max: 2.75373, min: -2.42907\n",
            "robust accuracy: 55.00%\n"
          ]
        }
      ],
      "source": [
        "epsilon = 0.4\n",
        "! python /content/auto-attack/autoattack/examples/eval.py --epsilon $epsilon"
      ]
    },
    {
      "cell_type": "markdown",
      "metadata": {
        "id": "Op1MfiwSCIit"
      },
      "source": [
        "## Epsilon = 0.5"
      ]
    },
    {
      "cell_type": "code",
      "execution_count": 15,
      "metadata": {
        "colab": {
          "base_uri": "https://localhost:8080/"
        },
        "id": "1XkFpe5ABxnf",
        "outputId": "42d9102f-1bfd-4815-ebba-ef3b45e763a4"
      },
      "outputs": [
        {
          "name": "stdout",
          "output_type": "stream",
          "text": [
            "Files already downloaded and verified\n",
            "setting parameters for standard version\n",
            "using standard version including apgd-ce, apgd-t, fab-t, square.\n",
            "initial accuracy: 93.40%\n",
            "apgd-ce - 1/2 - 190 out of 500 successfully perturbed\n",
            "apgd-ce - 2/2 - 183 out of 434 successfully perturbed\n",
            "robust accuracy after APGD-CE: 56.10% (total time 50.5 s)\n",
            "apgd-t - 1/2 - 8 out of 500 successfully perturbed\n",
            "apgd-t - 2/2 - 0 out of 61 successfully perturbed\n",
            "robust accuracy after APGD-T: 55.30% (total time 324.4 s)\n",
            "fab-t - 1/2 - 0 out of 500 successfully perturbed\n",
            "fab-t - 2/2 - 0 out of 53 successfully perturbed\n",
            "robust accuracy after FAB-T: 55.30% (total time 810.2 s)\n",
            "square - 1/2 - 4 out of 500 successfully perturbed\n",
            "square - 2/2 - 0 out of 53 successfully perturbed\n",
            "robust accuracy after SQUARE: 54.90% (total time 1450.2 s)\n",
            "Warning: Square Attack has decreased the robust accuracy of 0.40%. This might indicate that the robustness evaluation using AutoAttack is unreliable. Consider running Square Attack with more iterations and restarts or an adaptive attack. See flags_doc.md for details.\n",
            "max L2 perturbation: 110.26619, nan in tensor: 0, max: 2.75373, min: -2.42907\n",
            "robust accuracy: 54.90%\n"
          ]
        }
      ],
      "source": [
        "epsilon = 0.5\n",
        "! python /content/auto-attack/autoattack/examples/eval.py --epsilon $epsilon"
      ]
    },
    {
      "cell_type": "markdown",
      "metadata": {
        "id": "28wOBTZ5C5TN"
      },
      "source": [
        "# AA-Linf"
      ]
    },
    {
      "cell_type": "markdown",
      "metadata": {
        "id": "iQVo3nXqC86l"
      },
      "source": [
        "## Epsilon = 4/255"
      ]
    },
    {
      "cell_type": "code",
      "execution_count": 23,
      "metadata": {
        "colab": {
          "base_uri": "https://localhost:8080/"
        },
        "id": "ucRp2TUsDJN3",
        "outputId": "cd5d9493-8896-44d1-a333-21dbdf1ffc21"
      },
      "outputs": [
        {
          "name": "stdout",
          "output_type": "stream",
          "text": [
            "Files already downloaded and verified\n",
            "setting parameters for standard version\n",
            "using standard version including apgd-ce, apgd-t, fab-t, square.\n",
            "initial accuracy: 93.40%\n",
            "apgd-ce - 1/2 - 277 out of 500 successfully perturbed\n",
            "apgd-ce - 2/2 - 255 out of 434 successfully perturbed\n",
            "robust accuracy after APGD-CE: 40.20% (total time 51.2 s)\n",
            "apgd-t - 1/1 - 2 out of 402 successfully perturbed\n",
            "robust accuracy after APGD-T: 40.00% (total time 247.3 s)\n",
            "fab-t - 1/1 - 0 out of 400 successfully perturbed\n",
            "robust accuracy after FAB-T: 40.00% (total time 591.9 s)\n",
            "square - 1/1 - 0 out of 400 successfully perturbed\n",
            "robust accuracy after SQUARE: 40.00% (total time 1022.4 s)\n",
            "max Linf perturbation: 2.42907, nan in tensor: 0, max: 2.75373, min: -2.42907\n",
            "robust accuracy: 40.00%\n"
          ]
        }
      ],
      "source": [
        "norm = \"Linf\"\n",
        "epsilon = 4/255\n",
        "! python /content/auto-attack/autoattack/examples/eval.py --epsilon $epsilon --norm $norm"
      ]
    },
    {
      "cell_type": "markdown",
      "metadata": {
        "id": "r_zZEAEKDWYl"
      },
      "source": [
        "## Epsilon = 6/255"
      ]
    },
    {
      "cell_type": "code",
      "execution_count": 24,
      "metadata": {
        "colab": {
          "base_uri": "https://localhost:8080/"
        },
        "id": "dOrdmehRDcTV",
        "outputId": "b2170a68-228d-4229-ab98-c5eb1d634f87"
      },
      "outputs": [
        {
          "name": "stdout",
          "output_type": "stream",
          "text": [
            "Files already downloaded and verified\n",
            "setting parameters for standard version\n",
            "using standard version including apgd-ce, apgd-t, fab-t, square.\n",
            "initial accuracy: 93.40%\n",
            "apgd-ce - 1/2 - 315 out of 500 successfully perturbed\n",
            "apgd-ce - 2/2 - 289 out of 434 successfully perturbed\n",
            "robust accuracy after APGD-CE: 33.00% (total time 51.2 s)\n",
            "apgd-t - 1/1 - 3 out of 330 successfully perturbed\n",
            "robust accuracy after APGD-T: 32.70% (total time 214.3 s)\n",
            "fab-t - 1/1 - 0 out of 327 successfully perturbed\n",
            "robust accuracy after FAB-T: 32.70% (total time 505.5 s)\n",
            "square - 1/1 - 0 out of 327 successfully perturbed\n",
            "robust accuracy after SQUARE: 32.70% (total time 877.5 s)\n",
            "max Linf perturbation: 2.42907, nan in tensor: 0, max: 2.75373, min: -2.42907\n",
            "robust accuracy: 32.70%\n"
          ]
        }
      ],
      "source": [
        "epsilon = 6/255\n",
        "norm = \"Linf\"\n",
        "! python /content/auto-attack/autoattack/examples/eval.py --epsilon $epsilon --norm $norm"
      ]
    },
    {
      "cell_type": "markdown",
      "metadata": {
        "id": "Pu9rv73ZDZzd"
      },
      "source": [
        "## Epsilon = 8/255"
      ]
    },
    {
      "cell_type": "code",
      "execution_count": 26,
      "metadata": {
        "colab": {
          "base_uri": "https://localhost:8080/"
        },
        "id": "hRQIK4KuDeI2",
        "outputId": "2c6f0c65-317d-448a-b98e-00f6591e8bff"
      },
      "outputs": [
        {
          "name": "stdout",
          "output_type": "stream",
          "text": [
            "Files already downloaded and verified\n",
            "setting parameters for standard version\n",
            "using standard version including apgd-ce, apgd-t, fab-t, square.\n",
            "initial accuracy: 93.40%\n",
            "apgd-ce - 1/2 - 348 out of 500 successfully perturbed\n",
            "apgd-ce - 2/2 - 312 out of 434 successfully perturbed\n",
            "robust accuracy after APGD-CE: 27.40% (total time 50.8 s)\n",
            "apgd-t - 1/1 - 2 out of 274 successfully perturbed\n",
            "robust accuracy after APGD-T: 27.20% (total time 186.6 s)\n",
            "fab-t - 1/1 - 0 out of 272 successfully perturbed\n",
            "robust accuracy after FAB-T: 27.20% (total time 428.0 s)\n",
            "square - 1/1 - 0 out of 272 successfully perturbed\n",
            "robust accuracy after SQUARE: 27.20% (total time 734.2 s)\n",
            "max Linf perturbation: 2.42907, nan in tensor: 0, max: 2.75373, min: -2.42907\n",
            "robust accuracy: 27.20%\n"
          ]
        }
      ],
      "source": [
        "epsilon = 8/255\n",
        "norm = \"Linf\"\n",
        "! python /content/auto-attack/autoattack/examples/eval.py --epsilon $epsilon --norm $norm"
      ]
    }
  ],
  "metadata": {
    "accelerator": "GPU",
    "colab": {
      "gpuType": "T4",
      "provenance": []
    },
    "kernelspec": {
      "display_name": "Python 3",
      "name": "python3"
    },
    "language_info": {
      "name": "python"
    }
  },
  "nbformat": 4,
  "nbformat_minor": 0
}
