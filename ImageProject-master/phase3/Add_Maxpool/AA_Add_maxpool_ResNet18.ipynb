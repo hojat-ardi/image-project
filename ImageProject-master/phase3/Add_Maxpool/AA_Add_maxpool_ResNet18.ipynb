{
  "nbformat": 4,
  "nbformat_minor": 0,
  "metadata": {
    "colab": {
      "provenance": [],
      "gpuType": "T4"
    },
    "kernelspec": {
      "name": "python3",
      "display_name": "Python 3"
    },
    "language_info": {
      "name": "python"
    },
    "accelerator": "GPU"
  },
  "cells": [
    {
      "cell_type": "code",
      "source": [
        "from google.colab import drive\n",
        "drive.mount('/content/gdrive')"
      ],
      "metadata": {
        "colab": {
          "base_uri": "https://localhost:8080/"
        },
        "id": "mD1KaZKW9SmW",
        "outputId": "bc5945b5-54f9-4646-8034-81cfe1b188e9"
      },
      "execution_count": 1,
      "outputs": [
        {
          "output_type": "stream",
          "name": "stdout",
          "text": [
            "Mounted at /content/gdrive\n"
          ]
        }
      ]
    },
    {
      "cell_type": "code",
      "execution_count": 2,
      "metadata": {
        "id": "KSAW4Eg2vsJ7"
      },
      "outputs": [],
      "source": [
        "from IPython.display import clear_output"
      ]
    },
    {
      "cell_type": "code",
      "source": [
        "!pip install git+https://github.com/fra31/auto-attack"
      ],
      "metadata": {
        "colab": {
          "base_uri": "https://localhost:8080/"
        },
        "id": "uUa3h_oG21ih",
        "outputId": "3f588809-7001-4cde-e063-84cb5ab71267"
      },
      "execution_count": 3,
      "outputs": [
        {
          "output_type": "stream",
          "name": "stdout",
          "text": [
            "Collecting git+https://github.com/fra31/auto-attack\n",
            "  Cloning https://github.com/fra31/auto-attack to /tmp/pip-req-build-dbbt9a6h\n",
            "  Running command git clone --filter=blob:none --quiet https://github.com/fra31/auto-attack /tmp/pip-req-build-dbbt9a6h\n",
            "  Resolved https://github.com/fra31/auto-attack to commit a39220048b3c9f2cca9a4d3a54604793c68eca7e\n",
            "  Preparing metadata (setup.py) ... \u001b[?25l\u001b[?25hdone\n",
            "Building wheels for collected packages: autoattack\n",
            "  Building wheel for autoattack (setup.py) ... \u001b[?25l\u001b[?25hdone\n",
            "  Created wheel for autoattack: filename=autoattack-0.1-py3-none-any.whl size=36229 sha256=49bd3a244ca33c54bd572d07d575d2f4977a746d97a5bcf4dd1918cc477e561f\n",
            "  Stored in directory: /tmp/pip-ephem-wheel-cache-hbforal0/wheels/b7/17/95/4b16fafe1b84fdabd247eb5f01b41165bd98d4c82d64ab93d2\n",
            "Successfully built autoattack\n",
            "Installing collected packages: autoattack\n",
            "Successfully installed autoattack-0.1\n"
          ]
        }
      ]
    },
    {
      "cell_type": "code",
      "source": [
        "! git clone https://github.com/fra31/auto-attack.git"
      ],
      "metadata": {
        "colab": {
          "base_uri": "https://localhost:8080/"
        },
        "id": "CzgFQRV726Vh",
        "outputId": "82c94d7c-0a96-4375-ad2e-cd97a56b6b7d"
      },
      "execution_count": 4,
      "outputs": [
        {
          "output_type": "stream",
          "name": "stdout",
          "text": [
            "Cloning into 'auto-attack'...\n",
            "remote: Enumerating objects: 672, done.\u001b[K\n",
            "remote: Counting objects: 100% (209/209), done.\u001b[K\n",
            "remote: Compressing objects: 100% (68/68), done.\u001b[K\n",
            "remote: Total 672 (delta 162), reused 159 (delta 141), pack-reused 463\u001b[K\n",
            "Receiving objects: 100% (672/672), 40.63 MiB | 11.13 MiB/s, done.\n",
            "Resolving deltas: 100% (413/413), done.\n"
          ]
        }
      ]
    },
    {
      "cell_type": "code",
      "source": [
        "! git clone https://github.com/hojat-ardi/image-project.git"
      ],
      "metadata": {
        "colab": {
          "base_uri": "https://localhost:8080/"
        },
        "id": "32ZiOt_L-iTF",
        "outputId": "025627f5-1c39-4db2-ce9d-79f5f9d1afff"
      },
      "execution_count": 5,
      "outputs": [
        {
          "output_type": "stream",
          "name": "stdout",
          "text": [
            "Cloning into 'image-project'...\n",
            "remote: Enumerating objects: 296, done.\u001b[K\n",
            "remote: Counting objects: 100% (185/185), done.\u001b[K\n",
            "remote: Compressing objects: 100% (105/105), done.\u001b[K\n",
            "remote: Total 296 (delta 60), reused 135 (delta 40), pack-reused 111\u001b[K\n",
            "Receiving objects: 100% (296/296), 39.81 MiB | 22.89 MiB/s, done.\n",
            "Resolving deltas: 100% (90/90), done.\n"
          ]
        }
      ]
    },
    {
      "cell_type": "code",
      "source": [
        "!cp /content/image-project/ImageProject-master/phase3/Add_Maxpool/resnet_Add_Maxpool.py  /content/auto-attack/autoattack/examples"
      ],
      "metadata": {
        "id": "eLhGg4rG9-Y0"
      },
      "execution_count": 6,
      "outputs": []
    },
    {
      "cell_type": "markdown",
      "source": [
        "#AA-L2"
      ],
      "metadata": {
        "id": "uacaJxYIHrqU"
      }
    },
    {
      "cell_type": "code",
      "source": [
        "%%shell\n",
        "cat > /content/auto-attack/autoattack/examples/eval.py << EOF\n",
        "\n",
        "\n",
        "import os\n",
        "import argparse\n",
        "from pathlib import Path\n",
        "import warnings\n",
        "\n",
        "import torch\n",
        "import torch.nn as nn\n",
        "import torchvision.datasets as datasets\n",
        "import torch.utils.data as data\n",
        "import torchvision.transforms as transforms\n",
        "\n",
        "import sys\n",
        "sys.path.insert(0,'..')\n",
        "from resnet_Add_Maxpool import *\n",
        "\n",
        "if __name__ == '__main__':\n",
        "    parser = argparse.ArgumentParser()\n",
        "    parser.add_argument('--data_dir', type=str, default='./data')\n",
        "    parser.add_argument('--norm', type=str, default='L2')\n",
        "    parser.add_argument('--epsilon', type=float, default=0.3)\n",
        "    #///////////////////////////////////////////////////////////////\n",
        "    parser.add_argument('--model', type=str, default='/content/gdrive/MyDrive/Add_maxpool_ResNet18.pth')\n",
        "    #///////////////////////////////////////////////////////////////\n",
        "    parser.add_argument('--n_ex', type=int, default=1000)\n",
        "    parser.add_argument('--individual', action='store_true')\n",
        "    parser.add_argument('--save_dir', type=str, default='./results')\n",
        "    parser.add_argument('--batch_size', type=int, default=500)\n",
        "    parser.add_argument('--log_path', type=str, default='./log_file.txt')\n",
        "    parser.add_argument('--version', type=str, default='standard')\n",
        "    parser.add_argument('--state-path', type=Path, default=None)\n",
        "\n",
        "    args = parser.parse_args()\n",
        "\n",
        "    # load model\n",
        "    model = ResNet18()\n",
        "    #//////////////////////////////////////////////\n",
        "    model = nn.DataParallel(model)\n",
        "    ckpt = torch.load(args.model)\n",
        "    model.load_state_dict(ckpt['net'])\n",
        "    #//////////////////////////////////////////////\n",
        "    model.cuda()\n",
        "    model.eval()\n",
        "\n",
        "    # load data\n",
        "    Normalize = transforms.Normalize((0.4914, 0.4822, 0.4465), (0.2023, 0.1994, 0.2010))\n",
        "    transform_list = [transforms.ToTensor() , Normalize]\n",
        "    transform_chain = transforms.Compose(transform_list)\n",
        "    item = datasets.CIFAR10(root=args.data_dir, train=False, transform=transform_chain, download=True)\n",
        "    test_loader = data.DataLoader(item, batch_size=1000, shuffle=False, num_workers=0)\n",
        "\n",
        "    # create save dir\n",
        "    if not os.path.exists(args.save_dir):\n",
        "        os.makedirs(args.save_dir)\n",
        "\n",
        "    # load attack\n",
        "    from autoattack import AutoAttack\n",
        "    adversary = AutoAttack(model, norm=args.norm, eps=args.epsilon, log_path=args.log_path,\n",
        "        version=args.version)\n",
        "\n",
        "    l = [x for (x, y) in test_loader]\n",
        "    x_test = torch.cat(l, 0)\n",
        "    l = [y for (x, y) in test_loader]\n",
        "    y_test = torch.cat(l, 0)\n",
        "\n",
        "    # example of custom version\n",
        "    if args.version == 'custom':\n",
        "        adversary.attacks_to_run = ['apgd-ce', 'fab']\n",
        "        adversary.apgd.n_restarts = 2\n",
        "        adversary.fab.n_restarts = 2\n",
        "\n",
        "    # run attack and save images\n",
        "    with torch.no_grad():\n",
        "        if not args.individual:\n",
        "            adv_complete = adversary.run_standard_evaluation(x_test[:args.n_ex], y_test[:args.n_ex],\n",
        "                bs=args.batch_size, state_path=args.state_path)\n",
        "\n",
        "            torch.save({'adv_complete': adv_complete}, '{}/{}_{}_1_{}_eps_{:.5f}.pth'.format(\n",
        "                args.save_dir, 'aa', args.version, adv_complete.shape[0], args.epsilon))\n",
        "\n",
        "        else:\n",
        "            # individual version, each attack is run on all test points\n",
        "            adv_complete = adversary.run_standard_evaluation_individual(x_test[:args.n_ex],\n",
        "                y_test[:args.n_ex], bs=args.batch_size)\n",
        "\n",
        "            torch.save(adv_complete, '{}/{}_{}_individual_1_{}_eps_{:.5f}_plus_{}_cheap_{}.pth'.format(\n",
        "                args.save_dir, 'aa', args.version, args.n_ex, args.epsilon))\n",
        "\n"
      ],
      "metadata": {
        "colab": {
          "base_uri": "https://localhost:8080/"
        },
        "id": "W_Xm7jlrvorq",
        "outputId": "93a3c6de-42e6-47dc-decb-549f818770f8"
      },
      "execution_count": 8,
      "outputs": [
        {
          "output_type": "stream",
          "name": "stdout",
          "text": [
            "/bin/bash: line 89: warning: here-document at line 0 delimited by end-of-file (wanted `EOF')\n"
          ]
        },
        {
          "output_type": "execute_result",
          "data": {
            "text/plain": []
          },
          "metadata": {},
          "execution_count": 8
        }
      ]
    },
    {
      "cell_type": "markdown",
      "source": [
        "## Epsilon = 0.3"
      ],
      "metadata": {
        "id": "E-w_BuvXCl5V"
      }
    },
    {
      "cell_type": "code",
      "source": [
        "epsilon = 0.3\n",
        "! python /content/auto-attack/autoattack/examples/eval.py --epsilon $epsilon"
      ],
      "metadata": {
        "colab": {
          "base_uri": "https://localhost:8080/"
        },
        "id": "2v4_N0Dkxpga",
        "outputId": "1029bbb9-77f3-4d23-a108-0d4a3fc1dbc2"
      },
      "execution_count": 9,
      "outputs": [
        {
          "output_type": "stream",
          "name": "stdout",
          "text": [
            "Downloading https://www.cs.toronto.edu/~kriz/cifar-10-python.tar.gz to ./data/cifar-10-python.tar.gz\n",
            "100% 170498071/170498071 [00:03<00:00, 48322328.71it/s]\n",
            "Extracting ./data/cifar-10-python.tar.gz to ./data\n",
            "setting parameters for standard version\n",
            "using standard version including apgd-ce, apgd-t, fab-t, square.\n",
            "initial accuracy: 95.30%\n",
            "apgd-ce - 1/2 - 203 out of 500 successfully perturbed\n",
            "apgd-ce - 2/2 - 192 out of 453 successfully perturbed\n",
            "robust accuracy after APGD-CE: 55.80% (total time 53.5 s)\n",
            "apgd-t - 1/2 - 6 out of 500 successfully perturbed\n",
            "apgd-t - 2/2 - 0 out of 58 successfully perturbed\n",
            "robust accuracy after APGD-T: 55.20% (total time 346.1 s)\n",
            "fab-t - 1/2 - 0 out of 500 successfully perturbed\n",
            "fab-t - 2/2 - 0 out of 52 successfully perturbed\n",
            "robust accuracy after FAB-T: 55.20% (total time 876.4 s)\n",
            "square - 1/2 - 2 out of 500 successfully perturbed\n",
            "square - 2/2 - 0 out of 52 successfully perturbed\n",
            "robust accuracy after SQUARE: 55.00% (total time 1597.0 s)\n",
            "max L2 perturbation: 110.26619, nan in tensor: 0, max: 2.75373, min: -2.42907\n",
            "robust accuracy: 55.00%\n"
          ]
        }
      ]
    },
    {
      "cell_type": "markdown",
      "source": [
        "## Epsilon = 0.4"
      ],
      "metadata": {
        "id": "awKVYO6qCAOO"
      }
    },
    {
      "cell_type": "code",
      "source": [
        "epsilon = 0.4\n",
        "! python /content/auto-attack/autoattack/examples/eval.py --epsilon $epsilon"
      ],
      "metadata": {
        "colab": {
          "base_uri": "https://localhost:8080/"
        },
        "id": "lc5mAcn30TpD",
        "outputId": "a648c243-cad2-4437-d4f5-65dc409a912d"
      },
      "execution_count": 10,
      "outputs": [
        {
          "output_type": "stream",
          "name": "stdout",
          "text": [
            "Files already downloaded and verified\n",
            "setting parameters for standard version\n",
            "using standard version including apgd-ce, apgd-t, fab-t, square.\n",
            "initial accuracy: 95.30%\n",
            "apgd-ce - 1/2 - 204 out of 500 successfully perturbed\n",
            "apgd-ce - 2/2 - 192 out of 453 successfully perturbed\n",
            "robust accuracy after APGD-CE: 55.70% (total time 55.2 s)\n",
            "apgd-t - 1/2 - 5 out of 500 successfully perturbed\n",
            "apgd-t - 2/2 - 0 out of 57 successfully perturbed\n",
            "robust accuracy after APGD-T: 55.20% (total time 348.0 s)\n",
            "fab-t - 1/2 - 0 out of 500 successfully perturbed\n",
            "fab-t - 2/2 - 0 out of 52 successfully perturbed\n",
            "robust accuracy after FAB-T: 55.20% (total time 876.9 s)\n",
            "square - 1/2 - 3 out of 500 successfully perturbed\n",
            "square - 2/2 - 0 out of 52 successfully perturbed\n",
            "robust accuracy after SQUARE: 54.90% (total time 1595.6 s)\n",
            "Warning: Square Attack has decreased the robust accuracy of 0.30%. This might indicate that the robustness evaluation using AutoAttack is unreliable. Consider running Square Attack with more iterations and restarts or an adaptive attack. See flags_doc.md for details.\n",
            "max L2 perturbation: 110.26619, nan in tensor: 0, max: 2.75373, min: -2.42907\n",
            "robust accuracy: 54.90%\n"
          ]
        }
      ]
    },
    {
      "cell_type": "markdown",
      "source": [
        "## Epsilon = 0.5"
      ],
      "metadata": {
        "id": "Op1MfiwSCIit"
      }
    },
    {
      "cell_type": "code",
      "source": [
        "epsilon = 0.5\n",
        "! python /content/auto-attack/autoattack/examples/eval.py --epsilon $epsilon"
      ],
      "metadata": {
        "colab": {
          "base_uri": "https://localhost:8080/"
        },
        "id": "1XkFpe5ABxnf",
        "outputId": "2b012065-4336-4197-9ada-41540887e321"
      },
      "execution_count": 11,
      "outputs": [
        {
          "output_type": "stream",
          "name": "stdout",
          "text": [
            "Files already downloaded and verified\n",
            "setting parameters for standard version\n",
            "using standard version including apgd-ce, apgd-t, fab-t, square.\n",
            "initial accuracy: 95.30%\n",
            "apgd-ce - 1/2 - 204 out of 500 successfully perturbed\n",
            "apgd-ce - 2/2 - 192 out of 453 successfully perturbed\n",
            "robust accuracy after APGD-CE: 55.70% (total time 55.5 s)\n",
            "apgd-t - 1/2 - 9 out of 500 successfully perturbed\n",
            "apgd-t - 2/2 - 0 out of 57 successfully perturbed\n",
            "robust accuracy after APGD-T: 54.80% (total time 346.1 s)\n",
            "fab-t - 1/2 - 0 out of 500 successfully perturbed\n",
            "fab-t - 2/2 - 0 out of 48 successfully perturbed\n",
            "robust accuracy after FAB-T: 54.80% (total time 869.6 s)\n",
            "square - 1/2 - 0 out of 500 successfully perturbed\n",
            "square - 2/2 - 0 out of 48 successfully perturbed\n",
            "robust accuracy after SQUARE: 54.80% (total time 1567.5 s)\n",
            "max L2 perturbation: 110.26619, nan in tensor: 0, max: 2.75373, min: -2.42907\n",
            "robust accuracy: 54.80%\n"
          ]
        }
      ]
    },
    {
      "cell_type": "markdown",
      "source": [
        "#AA-Linf"
      ],
      "metadata": {
        "id": "28wOBTZ5C5TN"
      }
    },
    {
      "cell_type": "markdown",
      "source": [
        "##Epsilon = 4/255"
      ],
      "metadata": {
        "id": "iQVo3nXqC86l"
      }
    },
    {
      "cell_type": "code",
      "source": [
        "norm = \"Linf\"\n",
        "epsilon = 4/255\n",
        "! python /content/auto-attack/autoattack/examples/eval.py --epsilon $epsilon --norm $norm"
      ],
      "metadata": {
        "colab": {
          "base_uri": "https://localhost:8080/"
        },
        "id": "ucRp2TUsDJN3",
        "outputId": "59434177-d876-4e67-ab43-c5950ce16b8f"
      },
      "execution_count": 17,
      "outputs": [
        {
          "output_type": "stream",
          "name": "stdout",
          "text": [
            "Files already downloaded and verified\n",
            "setting parameters for standard version\n",
            "using standard version including apgd-ce, apgd-t, fab-t, square.\n",
            "initial accuracy: 95.30%\n",
            "apgd-ce - 1/2 - 330 out of 500 successfully perturbed\n",
            "apgd-ce - 2/2 - 305 out of 453 successfully perturbed\n",
            "robust accuracy after APGD-CE: 31.80% (total time 54.0 s)\n",
            "apgd-t - 1/1 - 4 out of 318 successfully perturbed\n",
            "robust accuracy after APGD-T: 31.40% (total time 221.2 s)\n",
            "fab-t - 1/1 - 0 out of 314 successfully perturbed\n",
            "robust accuracy after FAB-T: 31.40% (total time 523.2 s)\n",
            "square - 1/1 - 0 out of 314 successfully perturbed\n",
            "robust accuracy after SQUARE: 31.40% (total time 911.0 s)\n",
            "max Linf perturbation: 2.42907, nan in tensor: 0, max: 2.75373, min: -2.42907\n",
            "robust accuracy: 31.40%\n"
          ]
        }
      ]
    },
    {
      "cell_type": "markdown",
      "source": [
        "##Epsilon = 6/255"
      ],
      "metadata": {
        "id": "r_zZEAEKDWYl"
      }
    },
    {
      "cell_type": "code",
      "source": [
        "norm = \"Linf\"\n",
        "epsilon = 6/255\n",
        "! python /content/auto-attack/autoattack/examples/eval.py --epsilon $epsilon --norm $norm"
      ],
      "metadata": {
        "colab": {
          "base_uri": "https://localhost:8080/"
        },
        "id": "dOrdmehRDcTV",
        "outputId": "74f85c52-3eba-4afd-9660-21979a864dac"
      },
      "execution_count": 20,
      "outputs": [
        {
          "output_type": "stream",
          "name": "stdout",
          "text": [
            "Files already downloaded and verified\n",
            "setting parameters for standard version\n",
            "using standard version including apgd-ce, apgd-t, fab-t, square.\n",
            "initial accuracy: 95.30%\n",
            "apgd-ce - 1/2 - 396 out of 500 successfully perturbed\n",
            "apgd-ce - 2/2 - 356 out of 453 successfully perturbed\n",
            "robust accuracy after APGD-CE: 20.10% (total time 55.1 s)\n",
            "apgd-t - 1/1 - 3 out of 201 successfully perturbed\n",
            "robust accuracy after APGD-T: 19.80% (total time 163.4 s)\n",
            "fab-t - 1/1 - 0 out of 198 successfully perturbed\n",
            "robust accuracy after FAB-T: 19.80% (total time 358.6 s)\n",
            "square - 1/1 - 0 out of 198 successfully perturbed\n",
            "robust accuracy after SQUARE: 19.80% (total time 608.8 s)\n",
            "max Linf perturbation: 2.42907, nan in tensor: 0, max: 2.75373, min: -2.42907\n",
            "robust accuracy: 19.80%\n"
          ]
        }
      ]
    },
    {
      "cell_type": "markdown",
      "source": [
        "##Epsilon = 8/255"
      ],
      "metadata": {
        "id": "Pu9rv73ZDZzd"
      }
    },
    {
      "cell_type": "code",
      "source": [
        "norm = \"Linf\"\n",
        "epsilon = 8/255\n",
        "! python /content/auto-attack/autoattack/examples/eval.py --epsilon $epsilon --norm $norm"
      ],
      "metadata": {
        "colab": {
          "base_uri": "https://localhost:8080/"
        },
        "id": "hRQIK4KuDeI2",
        "outputId": "2c099d27-f963-4c62-96e4-2dc257d5310a"
      },
      "execution_count": 21,
      "outputs": [
        {
          "output_type": "stream",
          "name": "stdout",
          "text": [
            "Files already downloaded and verified\n",
            "setting parameters for standard version\n",
            "using standard version including apgd-ce, apgd-t, fab-t, square.\n",
            "initial accuracy: 95.30%\n",
            "apgd-ce - 1/2 - 424 out of 500 successfully perturbed\n",
            "apgd-ce - 2/2 - 392 out of 453 successfully perturbed\n",
            "robust accuracy after APGD-CE: 13.70% (total time 55.3 s)\n",
            "apgd-t - 1/1 - 3 out of 137 successfully perturbed\n",
            "robust accuracy after APGD-T: 13.40% (total time 130.5 s)\n",
            "fab-t - 1/1 - 0 out of 134 successfully perturbed\n",
            "robust accuracy after FAB-T: 13.40% (total time 267.1 s)\n",
            "square - 1/1 - 0 out of 134 successfully perturbed\n",
            "robust accuracy after SQUARE: 13.40% (total time 442.5 s)\n",
            "max Linf perturbation: 2.42907, nan in tensor: 0, max: 2.75373, min: -2.42907\n",
            "robust accuracy: 13.40%\n"
          ]
        }
      ]
    }
  ]
}