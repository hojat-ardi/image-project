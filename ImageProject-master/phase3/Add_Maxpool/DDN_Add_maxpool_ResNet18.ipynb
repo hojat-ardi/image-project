{
  "nbformat": 4,
  "nbformat_minor": 0,
  "metadata": {
    "colab": {
      "provenance": [],
      "gpuType": "T4"
    },
    "kernelspec": {
      "name": "python3",
      "display_name": "Python 3"
    },
    "language_info": {
      "name": "python"
    },
    "accelerator": "GPU"
  },
  "cells": [
    {
      "cell_type": "code",
      "execution_count": 1,
      "metadata": {
        "colab": {
          "base_uri": "https://localhost:8080/"
        },
        "id": "JHjeSOpapNBD",
        "outputId": "5d5f87da-b055-4615-ccaa-d6a716174d6e"
      },
      "outputs": [
        {
          "output_type": "stream",
          "name": "stdout",
          "text": [
            "Mounted at /content/drive\n"
          ]
        }
      ],
      "source": [
        "from google.colab import drive\n",
        "drive.mount('/content/drive')"
      ]
    },
    {
      "cell_type": "code",
      "source": [
        "from IPython.display import clear_output"
      ],
      "metadata": {
        "id": "dmGRwpHCpmGr"
      },
      "execution_count": 2,
      "outputs": []
    },
    {
      "cell_type": "code",
      "source": [
        "! git clone https://github.com/jeromerony/fast_adversarial.git"
      ],
      "metadata": {
        "id": "KwOzIFZEpntp",
        "colab": {
          "base_uri": "https://localhost:8080/"
        },
        "outputId": "1df2c910-d1dd-4658-ab7d-85fd1293e187"
      },
      "execution_count": 3,
      "outputs": [
        {
          "output_type": "stream",
          "name": "stdout",
          "text": [
            "Cloning into 'fast_adversarial'...\n",
            "remote: Enumerating objects: 84, done.\u001b[K\n",
            "remote: Counting objects: 100% (3/3), done.\u001b[K\n",
            "remote: Compressing objects: 100% (3/3), done.\u001b[K\n",
            "remote: Total 84 (delta 0), reused 0 (delta 0), pack-reused 81\u001b[K\n",
            "Unpacking objects: 100% (84/84), 240.47 KiB | 2.43 MiB/s, done.\n"
          ]
        }
      ]
    },
    {
      "cell_type": "code",
      "source": [
        "!pip install git+https://github.com/jeromerony/fast_adversarial\n",
        "clear_output()"
      ],
      "metadata": {
        "id": "Fq9yH03sppRp"
      },
      "execution_count": 4,
      "outputs": []
    },
    {
      "cell_type": "code",
      "source": [
        "! git clone https://github.com/hojat-ardi/image-project.git"
      ],
      "metadata": {
        "colab": {
          "base_uri": "https://localhost:8080/"
        },
        "id": "8NKfzLGmprbh",
        "outputId": "ec87f446-2b95-4f49-b689-c795b996df28"
      },
      "execution_count": 5,
      "outputs": [
        {
          "output_type": "stream",
          "name": "stdout",
          "text": [
            "Cloning into 'image-project'...\n",
            "remote: Enumerating objects: 308, done.\u001b[K\n",
            "remote: Counting objects: 100% (197/197), done.\u001b[K\n",
            "remote: Compressing objects: 100% (114/114), done.\u001b[K\n",
            "remote: Total 308 (delta 63), reused 147 (delta 43), pack-reused 111\u001b[K\n",
            "Receiving objects: 100% (308/308), 39.82 MiB | 30.43 MiB/s, done.\n",
            "Resolving deltas: 100% (93/93), done.\n"
          ]
        }
      ]
    },
    {
      "cell_type": "code",
      "source": [
        "%cd /content\n",
        "!git clone https://github.com/alirezaabdollahpour/ML_Graduate_Project_TA.git"
      ],
      "metadata": {
        "colab": {
          "base_uri": "https://localhost:8080/"
        },
        "id": "eJyu5-MtpyEi",
        "outputId": "29028852-8a67-40ed-c7f9-9088ee56a798"
      },
      "execution_count": 6,
      "outputs": [
        {
          "output_type": "stream",
          "name": "stdout",
          "text": [
            "/content\n",
            "Cloning into 'ML_Graduate_Project_TA'...\n",
            "remote: Enumerating objects: 40, done.\u001b[K\n",
            "remote: Counting objects: 100% (40/40), done.\u001b[K\n",
            "remote: Compressing objects: 100% (30/30), done.\u001b[K\n",
            "remote: Total 40 (delta 10), reused 29 (delta 7), pack-reused 0\u001b[K\n",
            "Unpacking objects: 100% (40/40), 7.41 MiB | 12.40 MiB/s, done.\n"
          ]
        }
      ]
    },
    {
      "cell_type": "code",
      "source": [
        "#copy model\n",
        "!cp  /content/image-project/ImageProject-master/phase3/Add_Maxpool/resnet_Add_Maxpool.py  /content/fast_adversarial/examples"
      ],
      "metadata": {
        "id": "tRq23ILKp1Ri"
      },
      "execution_count": 12,
      "outputs": []
    },
    {
      "cell_type": "code",
      "source": [
        "#copy model\n",
        "!cp /content/ML_Graduate_Project_TA/Phase_1/utils.py  /content/fast_adversarial/examples"
      ],
      "metadata": {
        "id": "3FfOBR6jp4Ro"
      },
      "execution_count": 8,
      "outputs": []
    },
    {
      "cell_type": "code",
      "source": [
        "%%shell\n",
        "cat > /content/fast_adversarial/examples/Cifar10_example.py << EOF\n",
        "\n",
        "\n",
        "import argparse\n",
        "import torch\n",
        "import time\n",
        "from torch.utils import data\n",
        "from torchvision import datasets, transforms\n",
        "from torchvision.utils import save_image\n",
        "from resnet_Add_Maxpool import*\n",
        "from utils import*\n",
        "# from fast_adv.models.mnist import SmallCNN\n",
        "from fast_adv.attacks import DDN, CarliniWagnerL2\n",
        "from fast_adv.utils import requires_grad_, l2_norm\n",
        "\n",
        "\n",
        "if __name__ == '__main__':\n",
        "    parser = argparse.ArgumentParser('Generate adversarial examples on CFAR-10')\n",
        "    parser.add_argument('--data-path', default='data/cifar10')\n",
        "\n",
        "    args = parser.parse_args()\n",
        "\n",
        "    torch.manual_seed(42)\n",
        "    device = torch.device('cuda:0' if torch.cuda.is_available() else 'cpu')\n",
        "\n",
        "    print('Loading data')\n",
        "    dataset = datasets.CIFAR10(args.data_path, train=False,\n",
        "                             transform=transforms.ToTensor(),\n",
        "                             download=True)\n",
        "    loader = data.DataLoader(dataset, shuffle=False, batch_size=1000)\n",
        "\n",
        "    x, y = next(iter(loader))\n",
        "    x = x.to(device)\n",
        "    y = y.to(device)\n",
        "    # Inverse normalization\n",
        "    mean = torch.tensor([0.4914, 0.4822, 0.4465]).view(1, 3, 1, 1)\n",
        "    std = torch.tensor([0.2023, 0.1994, 0.2010]).view(1, 3, 1, 1)\n",
        "\n",
        "    # Move std and mean tensors to the same device as x\n",
        "    std = std.to(x.device)\n",
        "    mean = mean.to(x.device)\n",
        "\n",
        "    print('Loading model')\n",
        "    model = ResNet18()\n",
        "    model = nn.DataParallel(model)\n",
        "    checkpoint = torch.load(r\"/content/drive/MyDrive/Add_maxpool_ResNet18.pth\")\n",
        "    model.load_state_dict(checkpoint['net'])\n",
        "    model = NormalizedModel(model, mean =  mean , std = std)\n",
        "    model.eval().to(device)\n",
        "    requires_grad_(model, False)\n",
        "\n",
        "\n",
        "    y_pred = model(x)\n",
        "    _, predicted = y_pred.max(1)\n",
        "    total = y.size(0)\n",
        "    correct = predicted.eq(y).sum().item()\n",
        "    print(\"Clean accuracy is: \" , 100.*correct/total, '%')\n",
        "\n",
        "\n",
        "    print('Running DDN attack')\n",
        "    attacker = DDN(steps=1000, device=device)\n",
        "    start = time.time()\n",
        "    ddn_atk = attacker.attack(model, x, labels=y, targeted=False)\n",
        "    ddn_time = time.time() - start\n",
        "\n",
        "    # print('Running C&W attack')\n",
        "    # cwattacker = CarliniWagnerL2(device=device,\n",
        "    #                              image_constraints=(0, 1),\n",
        "    #                              num_classes=10)\n",
        "\n",
        "    # start = time.time()\n",
        "    # cw_atk = cwattacker.attack(model, x, labels=y, targeted=False)\n",
        "    # cw_time = time.time() - start\n",
        "\n",
        "    # Save images\n",
        "    all_imgs = torch.cat((x, ddn_atk))\n",
        "    save_image(all_imgs, 'images_and_attacks.png', nrow=16, pad_value=0)\n",
        "\n",
        "    # Print metrics\n",
        "    # pred_orig = model(x).argmax(dim=1).cpu()\n",
        "    # pred_cw = model(cw_atk).argmax(dim=1).cpu()\n",
        "    pred_ddn = model(ddn_atk).argmax(dim=1).cpu()\n",
        "    # print('Predictions on original images: {}'.format(pred_orig))\n",
        "    # print('Predictions on C&W attack: {}'.format(pred_cw))\n",
        "    print('Predictions on DDN attack: {}'.format(pred_ddn))\n",
        "    # print('C&W done in {:.1f}s: Success: {:.2f}%, Mean L2: {:.4f}.'.format(\n",
        "    #     cw_time,\n",
        "    #     (pred_cw != y.cpu()).float().mean().item() * 100,\n",
        "    #     l2_norm(cw_atk - x).mean().item()\n",
        "    # ))\n",
        "    print('DDN 1000 done in {:.1f}s   \\nSuccess: {:.2f}%   \\nMean L2: {:.4f}   \\nMedian L2: {:.4f}'.format(\n",
        "        ddn_time,\n",
        "        (pred_ddn != y.cpu()).float().mean().item() * 100,\n",
        "        l2_norm(ddn_atk - x).mean().item(),\n",
        "        l2_norm(ddn_atk - x).median().item()\n",
        "    ))\n"
      ],
      "metadata": {
        "colab": {
          "base_uri": "https://localhost:8080/"
        },
        "id": "p-QGLrYop7kw",
        "outputId": "7cf79e7b-dc6a-4b8b-a88e-231c3290ec8e"
      },
      "execution_count": 15,
      "outputs": [
        {
          "output_type": "stream",
          "name": "stdout",
          "text": [
            "/bin/bash: line 95: warning: here-document at line 0 delimited by end-of-file (wanted `EOF')\n"
          ]
        },
        {
          "output_type": "execute_result",
          "data": {
            "text/plain": []
          },
          "metadata": {},
          "execution_count": 15
        }
      ]
    },
    {
      "cell_type": "code",
      "source": [
        "! python /content/fast_adversarial/examples/Cifar10_example.py"
      ],
      "metadata": {
        "colab": {
          "base_uri": "https://localhost:8080/"
        },
        "id": "qCYX5TtVqgvj",
        "outputId": "9b8965c6-60bd-4117-b02f-e8acd7b00a90"
      },
      "execution_count": 16,
      "outputs": [
        {
          "output_type": "stream",
          "name": "stdout",
          "text": [
            "Loading data\n",
            "Files already downloaded and verified\n",
            "Loading model\n",
            "Clean accuracy is:  95.3 %\n",
            "Running DDN attack\n",
            "/usr/local/lib/python3.10/dist-packages/torch/optim/lr_scheduler.py:139: UserWarning: Detected call of `lr_scheduler.step()` before `optimizer.step()`. In PyTorch 1.1.0 and later, you should call them in the opposite order: `optimizer.step()` before `lr_scheduler.step()`.  Failure to do this will result in PyTorch skipping the first value of the learning rate schedule. See more details at https://pytorch.org/docs/stable/optim.html#how-to-adjust-learning-rate\n",
            "  warnings.warn(\"Detected call of `lr_scheduler.step()` before `optimizer.step()`. \"\n",
            "Predictions on DDN attack: tensor([6, 1, 1, 2, 2, 4, 5, 2, 4, 9, 5, 1, 4, 9, 1, 6, 7, 9, 0, 2, 9, 2, 6, 0,\n",
            "        3, 3, 3, 6, 2, 2, 3, 3, 8, 2, 0, 3, 5, 9, 8, 8, 2, 2, 3, 3, 1, 1, 4, 8,\n",
            "        5, 2, 0, 6, 5, 5, 0, 2, 5, 3, 7, 3, 6, 5, 7, 5, 2, 6, 8, 6, 9, 4, 5, 3,\n",
            "        0, 3, 9, 5, 0, 5, 5, 0, 3, 9, 3, 3, 3, 9, 3, 3, 0, 0, 4, 6, 4, 1, 5, 3,\n",
            "        4, 8, 2, 5, 7, 3, 2, 6, 9, 9, 6, 2, 3, 3, 6, 3, 2, 6, 9, 6, 3, 0, 6, 2,\n",
            "        0, 5, 3, 3, 2, 2, 2, 4, 6, 3, 2, 5, 1, 1, 6, 3, 7, 9, 6, 8, 3, 2, 3, 2,\n",
            "        2, 5, 3, 6, 3, 0, 0, 1, 3, 3, 6, 2, 6, 3, 3, 5, 5, 8, 3, 2, 0, 2, 4, 6,\n",
            "        3, 8, 8, 0, 6, 2, 0, 7, 6, 5, 3, 9, 3, 7, 6, 3, 5, 4, 2, 2, 3, 8, 6, 4,\n",
            "        7, 9, 4, 7, 7, 3, 3, 3, 3, 0, 0, 1, 9, 6, 8, 4, 5, 3, 5, 8, 3, 8, 1, 2,\n",
            "        5, 1, 3, 7, 5, 5, 3, 3, 4, 1, 5, 6, 5, 3, 3, 9, 3, 1, 0, 2, 2, 9, 3, 3,\n",
            "        8, 9, 1, 3, 4, 6, 9, 8, 3, 0, 3, 2, 4, 1, 2, 8, 6, 8, 8, 4, 9, 9, 3, 3,\n",
            "        8, 2, 4, 6, 5, 3, 4, 5, 1, 5, 2, 3, 8, 2, 2, 7, 0, 2, 2, 9, 9, 8, 8, 8,\n",
            "        3, 8, 3, 4, 2, 1, 2, 2, 5, 8, 2, 3, 5, 4, 5, 8, 2, 8, 9, 6, 9, 2, 4, 4,\n",
            "        0, 2, 7, 5, 4, 3, 6, 3, 6, 4, 6, 2, 5, 6, 5, 3, 2, 9, 9, 0, 2, 3, 4, 1,\n",
            "        6, 4, 2, 1, 3, 3, 0, 7, 4, 3, 3, 9, 6, 0, 7, 9, 8, 0, 6, 2, 5, 3, 6, 2,\n",
            "        1, 3, 3, 8, 3, 5, 9, 8, 2, 9, 2, 2, 8, 2, 9, 2, 5, 9, 8, 4, 2, 1, 2, 1,\n",
            "        5, 2, 4, 4, 3, 3, 3, 8, 2, 6, 1, 4, 5, 7, 9, 9, 5, 1, 4, 0, 9, 3, 8, 9,\n",
            "        2, 3, 3, 0, 5, 2, 0, 3, 6, 5, 2, 6, 2, 4, 8, 3, 0, 8, 6, 2, 6, 3, 3, 8,\n",
            "        5, 4, 7, 5, 3, 2, 5, 9, 9, 2, 0, 8, 3, 3, 3, 2, 3, 0, 6, 1, 6, 2, 8, 5,\n",
            "        4, 6, 2, 2, 2, 2, 9, 5, 4, 5, 7, 6, 3, 1, 5, 3, 0, 8, 2, 5, 4, 9, 3, 7,\n",
            "        3, 2, 4, 3, 3, 2, 1, 7, 4, 2, 9, 7, 2, 3, 8, 0, 1, 5, 4, 2, 2, 2, 3, 5,\n",
            "        1, 3, 3, 0, 0, 2, 3, 2, 3, 9, 3, 6, 1, 3, 3, 1, 3, 0, 8, 5, 8, 3, 2, 8,\n",
            "        7, 5, 8, 4, 1, 3, 3, 2, 1, 4, 6, 7, 9, 9, 2, 3, 3, 2, 8, 3, 6, 3, 3, 7,\n",
            "        2, 3, 1, 5, 3, 5, 6, 6, 8, 5, 3, 4, 4, 5, 8, 3, 8, 4, 3, 0, 8, 6, 3, 2,\n",
            "        0, 8, 5, 2, 2, 8, 6, 3, 4, 3, 6, 5, 0, 7, 8, 1, 0, 2, 8, 3, 2, 5, 3, 6,\n",
            "        4, 3, 8, 3, 5, 2, 3, 5, 4, 3, 3, 1, 2, 4, 6, 2, 2, 3, 4, 8, 4, 1, 9, 3,\n",
            "        5, 1, 1, 3, 5, 9, 4, 2, 3, 3, 4, 9, 1, 6, 8, 3, 3, 6, 2, 4, 8, 9, 6, 3,\n",
            "        7, 7, 4, 1, 7, 3, 1, 0, 9, 9, 2, 9, 8, 7, 5, 5, 8, 0, 5, 8, 9, 2, 8, 5,\n",
            "        0, 6, 0, 3, 1, 9, 8, 3, 1, 3, 0, 0, 8, 2, 2, 2, 2, 6, 4, 0, 0, 4, 0, 6,\n",
            "        0, 0, 4, 2, 3, 0, 7, 2, 2, 5, 0, 3, 9, 2, 2, 0, 1, 3, 5, 5, 6, 2, 7, 8,\n",
            "        7, 2, 1, 9, 4, 0, 2, 2, 2, 3, 5, 0, 2, 2, 1, 6, 9, 2, 9, 5, 6, 1, 8, 2,\n",
            "        1, 4, 5, 1, 4, 3, 8, 0, 1, 6, 4, 4, 4, 0, 8, 9, 5, 5, 2, 7, 9, 5, 4, 8,\n",
            "        3, 9, 4, 8, 2, 6, 2, 6, 3, 2, 3, 6, 1, 6, 5, 8, 6, 9, 2, 0, 9, 3, 4, 3,\n",
            "        5, 5, 2, 5, 4, 3, 3, 4, 2, 8, 2, 3, 7, 5, 0, 6, 0, 8, 0, 5, 4, 3, 9, 6,\n",
            "        3, 6, 9, 4, 5, 4, 2, 0, 1, 6, 3, 3, 4, 6, 0, 9, 0, 7, 3, 5, 9, 3, 2, 3,\n",
            "        5, 8, 4, 6, 4, 2, 4, 4, 6, 3, 5, 1, 1, 1, 2, 9, 4, 8, 2, 7, 7, 4, 2, 5,\n",
            "        8, 9, 5, 5, 7, 9, 2, 7, 6, 4, 8, 9, 2, 5, 6, 5, 0, 3, 2, 3, 1, 8, 8, 6,\n",
            "        1, 6, 3, 1, 3, 3, 5, 9, 1, 4, 5, 3, 3, 3, 9, 6, 9, 5, 8, 3, 2, 1, 4, 6,\n",
            "        3, 3, 7, 3, 4, 0, 9, 4, 0, 3, 5, 5, 0, 3, 2, 2, 2, 8, 2, 3, 2, 3, 5, 3,\n",
            "        3, 3, 1, 3, 1, 9, 5, 6, 8, 5, 2, 9, 4, 1, 4, 0, 2, 8, 7, 4, 2, 5, 5, 1,\n",
            "        3, 9, 0, 2, 3, 3, 3, 0, 9, 1, 1, 7, 6, 9, 3, 2, 2, 0, 8, 1, 3, 1, 3, 2,\n",
            "        5, 0, 5, 9, 5, 8, 6, 3, 1, 7, 2, 6, 9, 9, 2, 3])\n",
            "DDN 1000 done in 562.2s   \n",
            "Success: 100.00%   \n",
            "Mean L2: 0.1272   \n",
            "Median L2: 0.1239\n"
          ]
        }
      ]
    }
  ]
}