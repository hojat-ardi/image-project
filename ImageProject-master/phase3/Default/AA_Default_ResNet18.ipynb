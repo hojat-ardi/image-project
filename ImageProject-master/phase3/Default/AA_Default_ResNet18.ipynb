{
  "nbformat": 4,
  "nbformat_minor": 0,
  "metadata": {
    "colab": {
      "provenance": [],
      "gpuType": "T4"
    },
    "kernelspec": {
      "name": "python3",
      "display_name": "Python 3"
    },
    "language_info": {
      "name": "python"
    },
    "accelerator": "GPU"
  },
  "cells": [
    {
      "cell_type": "code",
      "source": [
        "from google.colab import drive\n",
        "drive.mount('/content/gdrive')"
      ],
      "metadata": {
        "colab": {
          "base_uri": "https://localhost:8080/"
        },
        "id": "mD1KaZKW9SmW",
        "outputId": "5b51bdca-5a18-4846-f4b8-fd8d1b1a22fa"
      },
      "execution_count": 1,
      "outputs": [
        {
          "output_type": "stream",
          "name": "stdout",
          "text": [
            "Mounted at /content/gdrive\n"
          ]
        }
      ]
    },
    {
      "cell_type": "code",
      "execution_count": 2,
      "metadata": {
        "id": "KSAW4Eg2vsJ7"
      },
      "outputs": [],
      "source": [
        "from IPython.display import clear_output"
      ]
    },
    {
      "cell_type": "code",
      "source": [
        "!pip install git+https://github.com/fra31/auto-attack"
      ],
      "metadata": {
        "colab": {
          "base_uri": "https://localhost:8080/"
        },
        "id": "uUa3h_oG21ih",
        "outputId": "44e7f3d1-d6e3-4629-b3b9-6c26f7c7ae61"
      },
      "execution_count": 3,
      "outputs": [
        {
          "output_type": "stream",
          "name": "stdout",
          "text": [
            "Collecting git+https://github.com/fra31/auto-attack\n",
            "  Cloning https://github.com/fra31/auto-attack to /tmp/pip-req-build-lundtbxs\n",
            "  Running command git clone --filter=blob:none --quiet https://github.com/fra31/auto-attack /tmp/pip-req-build-lundtbxs\n",
            "  Resolved https://github.com/fra31/auto-attack to commit a39220048b3c9f2cca9a4d3a54604793c68eca7e\n",
            "  Preparing metadata (setup.py) ... \u001b[?25l\u001b[?25hdone\n",
            "Building wheels for collected packages: autoattack\n",
            "  Building wheel for autoattack (setup.py) ... \u001b[?25l\u001b[?25hdone\n",
            "  Created wheel for autoattack: filename=autoattack-0.1-py3-none-any.whl size=36229 sha256=11532b1288e52f069b5b2696df9a2b6de308780bc05d6d34f88c88d92b901bd6\n",
            "  Stored in directory: /tmp/pip-ephem-wheel-cache-b54xap2k/wheels/b7/17/95/4b16fafe1b84fdabd247eb5f01b41165bd98d4c82d64ab93d2\n",
            "Successfully built autoattack\n",
            "Installing collected packages: autoattack\n",
            "Successfully installed autoattack-0.1\n"
          ]
        }
      ]
    },
    {
      "cell_type": "code",
      "source": [
        "! git clone https://github.com/fra31/auto-attack.git"
      ],
      "metadata": {
        "colab": {
          "base_uri": "https://localhost:8080/"
        },
        "id": "CzgFQRV726Vh",
        "outputId": "ee5b78f5-6877-4326-a0ea-bb9293cc0cea"
      },
      "execution_count": 4,
      "outputs": [
        {
          "output_type": "stream",
          "name": "stdout",
          "text": [
            "Cloning into 'auto-attack'...\n",
            "remote: Enumerating objects: 672, done.\u001b[K\n",
            "remote: Counting objects: 100% (209/209), done.\u001b[K\n",
            "remote: Compressing objects: 100% (68/68), done.\u001b[K\n",
            "remote: Total 672 (delta 162), reused 159 (delta 141), pack-reused 463\u001b[K\n",
            "Receiving objects: 100% (672/672), 40.63 MiB | 17.56 MiB/s, done.\n",
            "Resolving deltas: 100% (413/413), done.\n"
          ]
        }
      ]
    },
    {
      "cell_type": "code",
      "source": [
        "! git clone https://github.com/hojat-ardi/image-project.git"
      ],
      "metadata": {
        "colab": {
          "base_uri": "https://localhost:8080/"
        },
        "id": "32ZiOt_L-iTF",
        "outputId": "7d4ff7ac-fb06-4b12-eb71-0d0e1a79aaa1"
      },
      "execution_count": 5,
      "outputs": [
        {
          "output_type": "stream",
          "name": "stdout",
          "text": [
            "Cloning into 'image-project'...\n",
            "remote: Enumerating objects: 296, done.\u001b[K\n",
            "remote: Counting objects: 100% (185/185), done.\u001b[K\n",
            "remote: Compressing objects: 100% (105/105), done.\u001b[K\n",
            "remote: Total 296 (delta 60), reused 135 (delta 40), pack-reused 111\u001b[K\n",
            "Receiving objects: 100% (296/296), 39.81 MiB | 31.36 MiB/s, done.\n",
            "Resolving deltas: 100% (90/90), done.\n"
          ]
        }
      ]
    },
    {
      "cell_type": "code",
      "source": [
        "!cp /content/image-project/ImageProject-master/phase3/Default/resnet_Default.py  /content/auto-attack/autoattack/examples"
      ],
      "metadata": {
        "id": "eLhGg4rG9-Y0"
      },
      "execution_count": 6,
      "outputs": []
    },
    {
      "cell_type": "markdown",
      "source": [
        "#AA-L2"
      ],
      "metadata": {
        "id": "uacaJxYIHrqU"
      }
    },
    {
      "cell_type": "code",
      "source": [
        "%%shell\n",
        "cat > /content/auto-attack/autoattack/examples/eval.py << EOF\n",
        "\n",
        "\n",
        "import os\n",
        "import argparse\n",
        "from pathlib import Path\n",
        "import warnings\n",
        "\n",
        "import torch\n",
        "import torch.nn as nn\n",
        "import torchvision.datasets as datasets\n",
        "import torch.utils.data as data\n",
        "import torchvision.transforms as transforms\n",
        "\n",
        "import sys\n",
        "sys.path.insert(0,'..')\n",
        "from resnet_Default import *\n",
        "\n",
        "if __name__ == '__main__':\n",
        "    parser = argparse.ArgumentParser()\n",
        "    parser.add_argument('--data_dir', type=str, default='./data')\n",
        "    parser.add_argument('--norm', type=str, default='L2')\n",
        "    parser.add_argument('--epsilon', type=float, default=0.3)\n",
        "    #///////////////////////////////////////////////////////////////\n",
        "    parser.add_argument('--model', type=str, default='/content/gdrive/MyDrive/Default_ResNet18.pth')\n",
        "    #///////////////////////////////////////////////////////////////\n",
        "    parser.add_argument('--n_ex', type=int, default=1000)\n",
        "    parser.add_argument('--individual', action='store_true')\n",
        "    parser.add_argument('--save_dir', type=str, default='./results')\n",
        "    parser.add_argument('--batch_size', type=int, default=500)\n",
        "    parser.add_argument('--log_path', type=str, default='./log_file.txt')\n",
        "    parser.add_argument('--version', type=str, default='standard')\n",
        "    parser.add_argument('--state-path', type=Path, default=None)\n",
        "\n",
        "    args = parser.parse_args()\n",
        "\n",
        "    # load model\n",
        "    model = ResNet18()\n",
        "    #//////////////////////////////////////////////\n",
        "    model = nn.DataParallel(model)\n",
        "    ckpt = torch.load(args.model)\n",
        "    model.load_state_dict(ckpt['net'])\n",
        "    #//////////////////////////////////////////////\n",
        "    model.cuda()\n",
        "    model.eval()\n",
        "\n",
        "    # load data\n",
        "    Normalize = transforms.Normalize((0.4914, 0.4822, 0.4465), (0.2023, 0.1994, 0.2010))\n",
        "    transform_list = [transforms.ToTensor() , Normalize]\n",
        "    transform_chain = transforms.Compose(transform_list)\n",
        "    item = datasets.CIFAR10(root=args.data_dir, train=False, transform=transform_chain, download=True)\n",
        "    test_loader = data.DataLoader(item, batch_size=1000, shuffle=False, num_workers=0)\n",
        "\n",
        "    # create save dir\n",
        "    if not os.path.exists(args.save_dir):\n",
        "        os.makedirs(args.save_dir)\n",
        "\n",
        "    # load attack\n",
        "    from autoattack import AutoAttack\n",
        "    adversary = AutoAttack(model, norm=args.norm, eps=args.epsilon, log_path=args.log_path,\n",
        "        version=args.version)\n",
        "\n",
        "    l = [x for (x, y) in test_loader]\n",
        "    x_test = torch.cat(l, 0)\n",
        "    l = [y for (x, y) in test_loader]\n",
        "    y_test = torch.cat(l, 0)\n",
        "\n",
        "    # example of custom version\n",
        "    if args.version == 'custom':\n",
        "        adversary.attacks_to_run = ['apgd-ce', 'fab']\n",
        "        adversary.apgd.n_restarts = 2\n",
        "        adversary.fab.n_restarts = 2\n",
        "\n",
        "    # run attack and save images\n",
        "    with torch.no_grad():\n",
        "        if not args.individual:\n",
        "            adv_complete = adversary.run_standard_evaluation(x_test[:args.n_ex], y_test[:args.n_ex],\n",
        "                bs=args.batch_size, state_path=args.state_path)\n",
        "\n",
        "            torch.save({'adv_complete': adv_complete}, '{}/{}_{}_1_{}_eps_{:.5f}.pth'.format(\n",
        "                args.save_dir, 'aa', args.version, adv_complete.shape[0], args.epsilon))\n",
        "\n",
        "        else:\n",
        "            # individual version, each attack is run on all test points\n",
        "            adv_complete = adversary.run_standard_evaluation_individual(x_test[:args.n_ex],\n",
        "                y_test[:args.n_ex], bs=args.batch_size)\n",
        "\n",
        "            torch.save(adv_complete, '{}/{}_{}_individual_1_{}_eps_{:.5f}_plus_{}_cheap_{}.pth'.format(\n",
        "                args.save_dir, 'aa', args.version, args.n_ex, args.epsilon))\n",
        "\n"
      ],
      "metadata": {
        "colab": {
          "base_uri": "https://localhost:8080/"
        },
        "id": "W_Xm7jlrvorq",
        "outputId": "8933a8cf-4ca4-4866-ffb3-85ce4ae48020"
      },
      "execution_count": 7,
      "outputs": [
        {
          "output_type": "stream",
          "name": "stdout",
          "text": [
            "/bin/bash: line 89: warning: here-document at line 0 delimited by end-of-file (wanted `EOF')\n"
          ]
        },
        {
          "output_type": "execute_result",
          "data": {
            "text/plain": []
          },
          "metadata": {},
          "execution_count": 7
        }
      ]
    },
    {
      "cell_type": "markdown",
      "source": [
        "## Epsilon = 0.3"
      ],
      "metadata": {
        "id": "E-w_BuvXCl5V"
      }
    },
    {
      "cell_type": "code",
      "source": [
        "epsilon = 0.3\n",
        "! python /content/auto-attack/autoattack/examples/eval.py --epsilon $epsilon"
      ],
      "metadata": {
        "colab": {
          "base_uri": "https://localhost:8080/"
        },
        "id": "2v4_N0Dkxpga",
        "outputId": "980808eb-b248-4009-a56e-281a954cd097"
      },
      "execution_count": 8,
      "outputs": [
        {
          "output_type": "stream",
          "name": "stdout",
          "text": [
            "Downloading https://www.cs.toronto.edu/~kriz/cifar-10-python.tar.gz to ./data/cifar-10-python.tar.gz\n",
            "100% 170498071/170498071 [00:05<00:00, 28463755.31it/s]\n",
            "Extracting ./data/cifar-10-python.tar.gz to ./data\n",
            "setting parameters for standard version\n",
            "using standard version including apgd-ce, apgd-t, fab-t, square.\n",
            "initial accuracy: 95.80%\n",
            "apgd-ce - 1/2 - 214 out of 500 successfully perturbed\n",
            "apgd-ce - 2/2 - 204 out of 458 successfully perturbed\n",
            "robust accuracy after APGD-CE: 54.00% (total time 53.8 s)\n",
            "apgd-t - 1/2 - 5 out of 500 successfully perturbed\n",
            "apgd-t - 2/2 - 0 out of 40 successfully perturbed\n",
            "robust accuracy after APGD-T: 53.50% (total time 343.1 s)\n",
            "fab-t - 1/2 - 0 out of 500 successfully perturbed\n",
            "fab-t - 2/2 - 0 out of 35 successfully perturbed\n",
            "robust accuracy after FAB-T: 53.50% (total time 882.8 s)\n",
            "square - 1/2 - 4 out of 500 successfully perturbed\n",
            "square - 2/2 - 1 out of 35 successfully perturbed\n",
            "robust accuracy after SQUARE: 53.00% (total time 1609.2 s)\n",
            "Warning: Square Attack has decreased the robust accuracy of 0.50%. This might indicate that the robustness evaluation using AutoAttack is unreliable. Consider running Square Attack with more iterations and restarts or an adaptive attack. See flags_doc.md for details.\n",
            "max L2 perturbation: 110.26619, nan in tensor: 0, max: 2.75373, min: -2.42907\n",
            "robust accuracy: 53.00%\n"
          ]
        }
      ]
    },
    {
      "cell_type": "markdown",
      "source": [
        "## Epsilon = 0.4"
      ],
      "metadata": {
        "id": "awKVYO6qCAOO"
      }
    },
    {
      "cell_type": "code",
      "source": [
        "epsilon = 0.4\n",
        "! python /content/auto-attack/autoattack/examples/eval.py --epsilon $epsilon"
      ],
      "metadata": {
        "colab": {
          "base_uri": "https://localhost:8080/"
        },
        "id": "lc5mAcn30TpD",
        "outputId": "497f4681-1d92-405d-d07a-cfde37ad00eb"
      },
      "execution_count": 9,
      "outputs": [
        {
          "output_type": "stream",
          "name": "stdout",
          "text": [
            "Files already downloaded and verified\n",
            "setting parameters for standard version\n",
            "using standard version including apgd-ce, apgd-t, fab-t, square.\n",
            "initial accuracy: 95.80%\n",
            "apgd-ce - 1/2 - 214 out of 500 successfully perturbed\n",
            "apgd-ce - 2/2 - 205 out of 458 successfully perturbed\n",
            "robust accuracy after APGD-CE: 53.90% (total time 55.9 s)\n",
            "apgd-t - 1/2 - 7 out of 500 successfully perturbed\n",
            "apgd-t - 2/2 - 1 out of 39 successfully perturbed\n",
            "robust accuracy after APGD-T: 53.10% (total time 354.0 s)\n",
            "fab-t - 1/2 - 0 out of 500 successfully perturbed\n",
            "fab-t - 2/2 - 0 out of 31 successfully perturbed\n",
            "robust accuracy after FAB-T: 53.10% (total time 886.0 s)\n",
            "square - 1/2 - 5 out of 500 successfully perturbed\n",
            "square - 2/2 - 0 out of 31 successfully perturbed\n",
            "robust accuracy after SQUARE: 52.60% (total time 1615.2 s)\n",
            "Warning: Square Attack has decreased the robust accuracy of 0.50%. This might indicate that the robustness evaluation using AutoAttack is unreliable. Consider running Square Attack with more iterations and restarts or an adaptive attack. See flags_doc.md for details.\n",
            "max L2 perturbation: 110.26619, nan in tensor: 0, max: 2.75373, min: -2.42907\n",
            "robust accuracy: 52.60%\n"
          ]
        }
      ]
    },
    {
      "cell_type": "markdown",
      "source": [
        "## Epsilon = 0.5"
      ],
      "metadata": {
        "id": "Op1MfiwSCIit"
      }
    },
    {
      "cell_type": "code",
      "source": [
        "epsilon = 0.5\n",
        "! python /content/auto-attack/autoattack/examples/eval.py --epsilon $epsilon"
      ],
      "metadata": {
        "colab": {
          "base_uri": "https://localhost:8080/"
        },
        "id": "1XkFpe5ABxnf",
        "outputId": "2e176c55-323a-4ded-b09d-9d30f16e967f"
      },
      "execution_count": 10,
      "outputs": [
        {
          "output_type": "stream",
          "name": "stdout",
          "text": [
            "Files already downloaded and verified\n",
            "setting parameters for standard version\n",
            "using standard version including apgd-ce, apgd-t, fab-t, square.\n",
            "initial accuracy: 95.80%\n",
            "apgd-ce - 1/2 - 214 out of 500 successfully perturbed\n",
            "apgd-ce - 2/2 - 206 out of 458 successfully perturbed\n",
            "robust accuracy after APGD-CE: 53.80% (total time 56.0 s)\n",
            "apgd-t - 1/2 - 7 out of 500 successfully perturbed\n",
            "apgd-t - 2/2 - 0 out of 38 successfully perturbed\n",
            "robust accuracy after APGD-T: 53.10% (total time 353.7 s)\n",
            "fab-t - 1/2 - 0 out of 500 successfully perturbed\n",
            "fab-t - 2/2 - 0 out of 31 successfully perturbed\n",
            "robust accuracy after FAB-T: 53.10% (total time 885.7 s)\n",
            "square - 1/2 - 5 out of 500 successfully perturbed\n",
            "square - 2/2 - 0 out of 31 successfully perturbed\n",
            "robust accuracy after SQUARE: 52.60% (total time 1613.3 s)\n",
            "Warning: Square Attack has decreased the robust accuracy of 0.50%. This might indicate that the robustness evaluation using AutoAttack is unreliable. Consider running Square Attack with more iterations and restarts or an adaptive attack. See flags_doc.md for details.\n",
            "max L2 perturbation: 110.26619, nan in tensor: 0, max: 2.75373, min: -2.42907\n",
            "robust accuracy: 52.60%\n"
          ]
        }
      ]
    },
    {
      "cell_type": "markdown",
      "source": [
        "#AA-Linf"
      ],
      "metadata": {
        "id": "28wOBTZ5C5TN"
      }
    },
    {
      "cell_type": "markdown",
      "source": [
        "##Epsilon = 4/255"
      ],
      "metadata": {
        "id": "iQVo3nXqC86l"
      }
    },
    {
      "cell_type": "code",
      "source": [
        "norm = \"Linf\"\n",
        "epsilon = 4/255\n",
        "! python /content/auto-attack/autoattack/examples/eval.py --epsilon $epsilon --norm $norm"
      ],
      "metadata": {
        "colab": {
          "base_uri": "https://localhost:8080/"
        },
        "id": "ucRp2TUsDJN3",
        "outputId": "602e8f5f-91a5-4ba9-ab53-69450576ed23"
      },
      "execution_count": 17,
      "outputs": [
        {
          "output_type": "stream",
          "name": "stdout",
          "text": [
            "Files already downloaded and verified\n",
            "setting parameters for standard version\n",
            "using standard version including apgd-ce, apgd-t, fab-t, square.\n",
            "initial accuracy: 95.80%\n",
            "apgd-ce - 1/2 - 350 out of 500 successfully perturbed\n",
            "apgd-ce - 2/2 - 320 out of 458 successfully perturbed\n",
            "robust accuracy after APGD-CE: 28.80% (total time 54.1 s)\n",
            "apgd-t - 1/1 - 1 out of 288 successfully perturbed\n",
            "robust accuracy after APGD-T: 28.70% (total time 207.3 s)\n",
            "fab-t - 1/1 - 0 out of 287 successfully perturbed\n",
            "robust accuracy after FAB-T: 28.70% (total time 486.2 s)\n",
            "square - 1/1 - 0 out of 287 successfully perturbed\n",
            "robust accuracy after SQUARE: 28.70% (total time 844.4 s)\n",
            "max Linf perturbation: 2.42907, nan in tensor: 0, max: 2.75373, min: -2.42907\n",
            "robust accuracy: 28.70%\n"
          ]
        }
      ]
    },
    {
      "cell_type": "markdown",
      "source": [
        "##Epsilon = 6/255"
      ],
      "metadata": {
        "id": "r_zZEAEKDWYl"
      }
    },
    {
      "cell_type": "code",
      "source": [
        "epsilon = 6/255\n",
        "norm = \"Linf\"\n",
        "! python /content/auto-attack/autoattack/examples/eval.py --epsilon $epsilon --norm $norm"
      ],
      "metadata": {
        "colab": {
          "base_uri": "https://localhost:8080/"
        },
        "id": "dOrdmehRDcTV",
        "outputId": "862c455a-b11d-4f60-d3f8-9adcd1298d26"
      },
      "execution_count": 18,
      "outputs": [
        {
          "output_type": "stream",
          "name": "stdout",
          "text": [
            "Files already downloaded and verified\n",
            "setting parameters for standard version\n",
            "using standard version including apgd-ce, apgd-t, fab-t, square.\n",
            "initial accuracy: 95.80%\n",
            "apgd-ce - 1/2 - 397 out of 500 successfully perturbed\n",
            "apgd-ce - 2/2 - 363 out of 458 successfully perturbed\n",
            "robust accuracy after APGD-CE: 19.80% (total time 56.2 s)\n",
            "apgd-t - 1/1 - 2 out of 198 successfully perturbed\n",
            "robust accuracy after APGD-T: 19.60% (total time 164.6 s)\n",
            "fab-t - 1/1 - 0 out of 196 successfully perturbed\n",
            "robust accuracy after FAB-T: 19.60% (total time 360.7 s)\n",
            "square - 1/1 - 0 out of 196 successfully perturbed\n",
            "robust accuracy after SQUARE: 19.60% (total time 612.9 s)\n",
            "max Linf perturbation: 2.42907, nan in tensor: 0, max: 2.75373, min: -2.42907\n",
            "robust accuracy: 19.60%\n"
          ]
        }
      ]
    },
    {
      "cell_type": "markdown",
      "source": [
        "##Epsilon = 8/255"
      ],
      "metadata": {
        "id": "Pu9rv73ZDZzd"
      }
    },
    {
      "cell_type": "code",
      "source": [
        "norm = \"Linf\"\n",
        "epsilon = 8/255\n",
        "! python /content/auto-attack/autoattack/examples/eval.py --epsilon $epsilon --norm $norm"
      ],
      "metadata": {
        "colab": {
          "base_uri": "https://localhost:8080/"
        },
        "id": "hRQIK4KuDeI2",
        "outputId": "00e607df-8545-4c38-bf6a-046674ff47a4"
      },
      "execution_count": 20,
      "outputs": [
        {
          "output_type": "stream",
          "name": "stdout",
          "text": [
            "Files already downloaded and verified\n",
            "setting parameters for standard version\n",
            "using standard version including apgd-ce, apgd-t, fab-t, square.\n",
            "initial accuracy: 95.80%\n",
            "apgd-ce - 1/2 - 429 out of 500 successfully perturbed\n",
            "apgd-ce - 2/2 - 409 out of 458 successfully perturbed\n",
            "robust accuracy after APGD-CE: 12.00% (total time 56.3 s)\n",
            "apgd-t - 1/1 - 2 out of 120 successfully perturbed\n",
            "robust accuracy after APGD-T: 11.80% (total time 122.9 s)\n",
            "fab-t - 1/1 - 0 out of 118 successfully perturbed\n",
            "robust accuracy after FAB-T: 11.80% (total time 244.8 s)\n",
            "square - 1/1 - 0 out of 118 successfully perturbed\n",
            "robust accuracy after SQUARE: 11.80% (total time 400.5 s)\n",
            "max Linf perturbation: 2.42907, nan in tensor: 0, max: 2.75373, min: -2.42907\n",
            "robust accuracy: 11.80%\n"
          ]
        }
      ]
    }
  ]
}