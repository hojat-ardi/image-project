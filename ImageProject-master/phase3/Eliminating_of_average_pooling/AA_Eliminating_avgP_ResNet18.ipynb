{
  "cells": [
    {
      "cell_type": "code",
      "execution_count": 1,
      "metadata": {
        "colab": {
          "base_uri": "https://localhost:8080/"
        },
        "id": "mD1KaZKW9SmW",
        "outputId": "1f130ee5-c3b5-401b-f71a-df08789c1118"
      },
      "outputs": [
        {
          "name": "stdout",
          "output_type": "stream",
          "text": [
            "Mounted at /content/gdrive\n"
          ]
        }
      ],
      "source": [
        "from google.colab import drive\n",
        "drive.mount('/content/gdrive')"
      ]
    },
    {
      "cell_type": "code",
      "execution_count": 2,
      "metadata": {
        "id": "KSAW4Eg2vsJ7"
      },
      "outputs": [],
      "source": [
        "from IPython.display import clear_output"
      ]
    },
    {
      "cell_type": "code",
      "execution_count": 3,
      "metadata": {
        "colab": {
          "base_uri": "https://localhost:8080/"
        },
        "id": "uUa3h_oG21ih",
        "outputId": "0ab520af-e3b1-4c1d-8f41-c828db94d1d0"
      },
      "outputs": [
        {
          "name": "stdout",
          "output_type": "stream",
          "text": [
            "Collecting git+https://github.com/fra31/auto-attack\n",
            "  Cloning https://github.com/fra31/auto-attack to /tmp/pip-req-build-ebggkdt6\n",
            "  Running command git clone --filter=blob:none --quiet https://github.com/fra31/auto-attack /tmp/pip-req-build-ebggkdt6\n",
            "  Resolved https://github.com/fra31/auto-attack to commit a39220048b3c9f2cca9a4d3a54604793c68eca7e\n",
            "  Preparing metadata (setup.py) ... \u001b[?25l\u001b[?25hdone\n",
            "Building wheels for collected packages: autoattack\n",
            "  Building wheel for autoattack (setup.py) ... \u001b[?25l\u001b[?25hdone\n",
            "  Created wheel for autoattack: filename=autoattack-0.1-py3-none-any.whl size=36229 sha256=8872b142a54500a8d83ac114da10a8dacb009261cbc015a9fffb5e5646313b6d\n",
            "  Stored in directory: /tmp/pip-ephem-wheel-cache-iqud6fzg/wheels/b7/17/95/4b16fafe1b84fdabd247eb5f01b41165bd98d4c82d64ab93d2\n",
            "Successfully built autoattack\n",
            "Installing collected packages: autoattack\n",
            "Successfully installed autoattack-0.1\n"
          ]
        }
      ],
      "source": [
        "!pip install git+https://github.com/fra31/auto-attack"
      ]
    },
    {
      "cell_type": "code",
      "execution_count": 4,
      "metadata": {
        "colab": {
          "base_uri": "https://localhost:8080/"
        },
        "id": "CzgFQRV726Vh",
        "outputId": "e7ddd356-c3c7-4136-d9f6-c49c1a484159"
      },
      "outputs": [
        {
          "name": "stdout",
          "output_type": "stream",
          "text": [
            "Cloning into 'auto-attack'...\n",
            "remote: Enumerating objects: 672, done.\u001b[K\n",
            "remote: Counting objects: 100% (209/209), done.\u001b[K\n",
            "remote: Compressing objects: 100% (68/68), done.\u001b[K\n",
            "remote: Total 672 (delta 162), reused 159 (delta 141), pack-reused 463\u001b[K\n",
            "Receiving objects: 100% (672/672), 40.63 MiB | 13.41 MiB/s, done.\n",
            "Resolving deltas: 100% (413/413), done.\n"
          ]
        }
      ],
      "source": [
        "! git clone https://github.com/fra31/auto-attack.git"
      ]
    },
    {
      "cell_type": "code",
      "execution_count": 5,
      "metadata": {
        "colab": {
          "base_uri": "https://localhost:8080/"
        },
        "id": "32ZiOt_L-iTF",
        "outputId": "cf5f66cc-6972-47f3-e8a6-93e38e3daad9"
      },
      "outputs": [
        {
          "name": "stdout",
          "output_type": "stream",
          "text": [
            "Cloning into 'image-project'...\n",
            "remote: Enumerating objects: 296, done.\u001b[K\n",
            "remote: Counting objects: 100% (185/185), done.\u001b[K\n",
            "remote: Compressing objects: 100% (105/105), done.\u001b[K\n",
            "remote: Total 296 (delta 60), reused 135 (delta 40), pack-reused 111\u001b[K\n",
            "Receiving objects: 100% (296/296), 39.81 MiB | 16.58 MiB/s, done.\n",
            "Resolving deltas: 100% (90/90), done.\n"
          ]
        }
      ],
      "source": [
        "! git clone https://github.com/hojat-ardi/image-project.git"
      ]
    },
    {
      "cell_type": "code",
      "execution_count": 6,
      "metadata": {
        "id": "eLhGg4rG9-Y0"
      },
      "outputs": [],
      "source": [
        "!cp /content/image-project/ImageProject-master/phase3/Eliminating_of_average_pooling/resnet_Eliminating_of_average_pooling.py  /content/auto-attack/autoattack/examples"
      ]
    },
    {
      "cell_type": "markdown",
      "metadata": {
        "id": "uacaJxYIHrqU"
      },
      "source": [
        "# AA-L2"
      ]
    },
    {
      "cell_type": "code",
      "execution_count": 7,
      "metadata": {
        "colab": {
          "base_uri": "https://localhost:8080/"
        },
        "id": "W_Xm7jlrvorq",
        "outputId": "091a7390-1371-4443-f686-8f827ea36445"
      },
      "outputs": [
        {
          "name": "stdout",
          "output_type": "stream",
          "text": [
            "/bin/bash: line 89: warning: here-document at line 0 delimited by end-of-file (wanted `EOF')\n"
          ]
        },
        {
          "data": {
            "text/plain": []
          },
          "execution_count": 7,
          "metadata": {},
          "output_type": "execute_result"
        }
      ],
      "source": [
        "%%shell\n",
        "cat > /content/auto-attack/autoattack/examples/eval.py << EOF\n",
        "\n",
        "\n",
        "import os\n",
        "import argparse\n",
        "from pathlib import Path\n",
        "import warnings\n",
        "\n",
        "import torch\n",
        "import torch.nn as nn\n",
        "import torchvision.datasets as datasets\n",
        "import torch.utils.data as data\n",
        "import torchvision.transforms as transforms\n",
        "\n",
        "import sys\n",
        "sys.path.insert(0,'..')\n",
        "from resnet_Eliminating_of_average_pooling import *\n",
        "\n",
        "if __name__ == '__main__':\n",
        "    parser = argparse.ArgumentParser()\n",
        "    parser.add_argument('--data_dir', type=str, default='./data')\n",
        "    parser.add_argument('--norm', type=str, default='L2')\n",
        "    parser.add_argument('--epsilon', type=float, default=0.3)\n",
        "    #///////////////////////////////////////////////////////////////\n",
        "    parser.add_argument('--model', type=str, default='/content/gdrive/MyDrive/Eliminating_avgP_ResNet18.pth')\n",
        "    #///////////////////////////////////////////////////////////////\n",
        "    parser.add_argument('--n_ex', type=int, default=1000)\n",
        "    parser.add_argument('--individual', action='store_true')\n",
        "    parser.add_argument('--save_dir', type=str, default='./results')\n",
        "    parser.add_argument('--batch_size', type=int, default=500)\n",
        "    parser.add_argument('--log_path', type=str, default='./log_file.txt')\n",
        "    parser.add_argument('--version', type=str, default='standard')\n",
        "    parser.add_argument('--state-path', type=Path, default=None)\n",
        "\n",
        "    args = parser.parse_args()\n",
        "\n",
        "    # load model\n",
        "    model = ResNet18()\n",
        "    #//////////////////////////////////////////////\n",
        "    model = nn.DataParallel(model)\n",
        "    ckpt = torch.load(args.model)\n",
        "    model.load_state_dict(ckpt['net'])\n",
        "    #//////////////////////////////////////////////\n",
        "    model.cuda()\n",
        "    model.eval()\n",
        "\n",
        "    # load data\n",
        "    Normalize = transforms.Normalize((0.4914, 0.4822, 0.4465), (0.2023, 0.1994, 0.2010))\n",
        "    transform_list = [transforms.ToTensor() , Normalize]\n",
        "    transform_chain = transforms.Compose(transform_list)\n",
        "    item = datasets.CIFAR10(root=args.data_dir, train=False, transform=transform_chain, download=True)\n",
        "    test_loader = data.DataLoader(item, batch_size=1000, shuffle=False, num_workers=0)\n",
        "\n",
        "    # create save dir\n",
        "    if not os.path.exists(args.save_dir):\n",
        "        os.makedirs(args.save_dir)\n",
        "\n",
        "    # load attack\n",
        "    from autoattack import AutoAttack\n",
        "    adversary = AutoAttack(model, norm=args.norm, eps=args.epsilon, log_path=args.log_path,\n",
        "        version=args.version)\n",
        "\n",
        "    l = [x for (x, y) in test_loader]\n",
        "    x_test = torch.cat(l, 0)\n",
        "    l = [y for (x, y) in test_loader]\n",
        "    y_test = torch.cat(l, 0)\n",
        "\n",
        "    # example of custom version\n",
        "    if args.version == 'custom':\n",
        "        adversary.attacks_to_run = ['apgd-ce', 'fab']\n",
        "        adversary.apgd.n_restarts = 2\n",
        "        adversary.fab.n_restarts = 2\n",
        "\n",
        "    # run attack and save images\n",
        "    with torch.no_grad():\n",
        "        if not args.individual:\n",
        "            adv_complete = adversary.run_standard_evaluation(x_test[:args.n_ex], y_test[:args.n_ex],\n",
        "                bs=args.batch_size, state_path=args.state_path)\n",
        "\n",
        "            torch.save({'adv_complete': adv_complete}, '{}/{}_{}_1_{}_eps_{:.5f}.pth'.format(\n",
        "                args.save_dir, 'aa', args.version, adv_complete.shape[0], args.epsilon))\n",
        "\n",
        "        else:\n",
        "            # individual version, each attack is run on all test points\n",
        "            adv_complete = adversary.run_standard_evaluation_individual(x_test[:args.n_ex],\n",
        "                y_test[:args.n_ex], bs=args.batch_size)\n",
        "\n",
        "            torch.save(adv_complete, '{}/{}_{}_individual_1_{}_eps_{:.5f}_plus_{}_cheap_{}.pth'.format(\n",
        "                args.save_dir, 'aa', args.version, args.n_ex, args.epsilon))\n",
        "\n"
      ]
    },
    {
      "cell_type": "markdown",
      "metadata": {
        "id": "E-w_BuvXCl5V"
      },
      "source": [
        "## Epsilon = 0.3"
      ]
    },
    {
      "cell_type": "code",
      "execution_count": 8,
      "metadata": {
        "colab": {
          "base_uri": "https://localhost:8080/"
        },
        "id": "2v4_N0Dkxpga",
        "outputId": "e1aa517f-e731-4799-a0e2-711e6de605a7"
      },
      "outputs": [
        {
          "name": "stdout",
          "output_type": "stream",
          "text": [
            "Downloading https://www.cs.toronto.edu/~kriz/cifar-10-python.tar.gz to ./data/cifar-10-python.tar.gz\n",
            "100% 170498071/170498071 [00:13<00:00, 12827486.33it/s]\n",
            "Extracting ./data/cifar-10-python.tar.gz to ./data\n",
            "setting parameters for standard version\n",
            "using standard version including apgd-ce, apgd-t, fab-t, square.\n",
            "initial accuracy: 93.80%\n",
            "apgd-ce - 1/2 - 200 out of 500 successfully perturbed\n",
            "apgd-ce - 2/2 - 188 out of 438 successfully perturbed\n",
            "robust accuracy after APGD-CE: 55.00% (total time 53.3 s)\n",
            "apgd-t - 1/2 - 7 out of 500 successfully perturbed\n",
            "apgd-t - 2/2 - 0 out of 50 successfully perturbed\n",
            "robust accuracy after APGD-T: 54.30% (total time 345.9 s)\n",
            "fab-t - 1/2 - 0 out of 500 successfully perturbed\n",
            "fab-t - 2/2 - 0 out of 43 successfully perturbed\n",
            "robust accuracy after FAB-T: 54.30% (total time 892.6 s)\n",
            "square - 1/2 - 4 out of 500 successfully perturbed\n",
            "square - 2/2 - 0 out of 43 successfully perturbed\n",
            "robust accuracy after SQUARE: 53.90% (total time 1636.9 s)\n",
            "Warning: Square Attack has decreased the robust accuracy of 0.40%. This might indicate that the robustness evaluation using AutoAttack is unreliable. Consider running Square Attack with more iterations and restarts or an adaptive attack. See flags_doc.md for details.\n",
            "max L2 perturbation: 110.26619, nan in tensor: 0, max: 2.75373, min: -2.42907\n",
            "robust accuracy: 53.90%\n"
          ]
        }
      ],
      "source": [
        "epsilon = 0.3\n",
        "! python /content/auto-attack/autoattack/examples/eval.py --epsilon $epsilon"
      ]
    },
    {
      "cell_type": "markdown",
      "metadata": {
        "id": "awKVYO6qCAOO"
      },
      "source": [
        "## Epsilon = 0.4"
      ]
    },
    {
      "cell_type": "code",
      "execution_count": 9,
      "metadata": {
        "colab": {
          "base_uri": "https://localhost:8080/"
        },
        "id": "lc5mAcn30TpD",
        "outputId": "0a07114c-3680-4866-9e80-72a55ba49204"
      },
      "outputs": [
        {
          "name": "stdout",
          "output_type": "stream",
          "text": [
            "Files already downloaded and verified\n",
            "setting parameters for standard version\n",
            "using standard version including apgd-ce, apgd-t, fab-t, square.\n",
            "initial accuracy: 93.80%\n",
            "apgd-ce - 1/2 - 201 out of 500 successfully perturbed\n",
            "apgd-ce - 2/2 - 190 out of 438 successfully perturbed\n",
            "robust accuracy after APGD-CE: 54.70% (total time 55.7 s)\n",
            "apgd-t - 1/2 - 6 out of 500 successfully perturbed\n",
            "apgd-t - 2/2 - 0 out of 47 successfully perturbed\n",
            "robust accuracy after APGD-T: 54.10% (total time 354.1 s)\n",
            "fab-t - 1/2 - 0 out of 500 successfully perturbed\n",
            "fab-t - 2/2 - 0 out of 41 successfully perturbed\n",
            "robust accuracy after FAB-T: 54.10% (total time 899.4 s)\n",
            "square - 1/2 - 3 out of 500 successfully perturbed\n",
            "square - 2/2 - 0 out of 41 successfully perturbed\n",
            "robust accuracy after SQUARE: 53.80% (total time 1659.1 s)\n",
            "Warning: Square Attack has decreased the robust accuracy of 0.30%. This might indicate that the robustness evaluation using AutoAttack is unreliable. Consider running Square Attack with more iterations and restarts or an adaptive attack. See flags_doc.md for details.\n",
            "max L2 perturbation: 110.26619, nan in tensor: 0, max: 2.75373, min: -2.42907\n",
            "robust accuracy: 53.80%\n"
          ]
        }
      ],
      "source": [
        "epsilon = .4\n",
        "! python /content/auto-attack/autoattack/examples/eval.py --epsilon $epsilon"
      ]
    },
    {
      "cell_type": "markdown",
      "metadata": {
        "id": "Op1MfiwSCIit"
      },
      "source": [
        "## Epsilon = 0.5"
      ]
    },
    {
      "cell_type": "code",
      "execution_count": 10,
      "metadata": {
        "colab": {
          "base_uri": "https://localhost:8080/"
        },
        "id": "1XkFpe5ABxnf",
        "outputId": "fb76bda8-873b-4be6-8100-e64a4d4bf84b"
      },
      "outputs": [
        {
          "name": "stdout",
          "output_type": "stream",
          "text": [
            "Files already downloaded and verified\n",
            "setting parameters for standard version\n",
            "using standard version including apgd-ce, apgd-t, fab-t, square.\n",
            "initial accuracy: 93.80%\n",
            "apgd-ce - 1/2 - 202 out of 500 successfully perturbed\n",
            "apgd-ce - 2/2 - 188 out of 438 successfully perturbed\n",
            "robust accuracy after APGD-CE: 54.80% (total time 55.7 s)\n",
            "apgd-t - 1/2 - 10 out of 500 successfully perturbed\n",
            "apgd-t - 2/2 - 1 out of 48 successfully perturbed\n",
            "robust accuracy after APGD-T: 53.70% (total time 349.0 s)\n",
            "fab-t - 1/2 - 0 out of 500 successfully perturbed\n",
            "fab-t - 2/2 - 0 out of 37 successfully perturbed\n",
            "robust accuracy after FAB-T: 53.70% (total time 888.9 s)\n",
            "square - 1/2 - 2 out of 500 successfully perturbed\n",
            "square - 2/2 - 0 out of 37 successfully perturbed\n",
            "robust accuracy after SQUARE: 53.50% (total time 1636.7 s)\n",
            "max L2 perturbation: 110.26619, nan in tensor: 0, max: 2.75373, min: -2.42907\n",
            "robust accuracy: 53.50%\n"
          ]
        }
      ],
      "source": [
        "epsilon = 0.5\n",
        "! python /content/auto-attack/autoattack/examples/eval.py --epsilon $epsilon"
      ]
    },
    {
      "cell_type": "markdown",
      "metadata": {
        "id": "28wOBTZ5C5TN"
      },
      "source": [
        "# AA-Linf"
      ]
    },
    {
      "cell_type": "markdown",
      "metadata": {
        "id": "iQVo3nXqC86l"
      },
      "source": [
        "## Epsilon = 4/255"
      ]
    },
    {
      "cell_type": "code",
      "execution_count": 15,
      "metadata": {
        "colab": {
          "base_uri": "https://localhost:8080/"
        },
        "id": "ucRp2TUsDJN3",
        "outputId": "e2615c84-2858-4af2-d2fd-5d93f277338a"
      },
      "outputs": [
        {
          "name": "stdout",
          "output_type": "stream",
          "text": [
            "Files already downloaded and verified\n",
            "setting parameters for standard version\n",
            "using standard version including apgd-ce, apgd-t, fab-t, square.\n",
            "initial accuracy: 93.80%\n",
            "apgd-ce - 1/2 - 340 out of 500 successfully perturbed\n",
            "apgd-ce - 2/2 - 304 out of 438 successfully perturbed\n",
            "robust accuracy after APGD-CE: 29.40% (total time 52.8 s)\n",
            "apgd-t - 1/1 - 0 out of 294 successfully perturbed\n",
            "robust accuracy after APGD-T: 29.40% (total time 210.4 s)\n",
            "fab-t - 1/1 - 0 out of 294 successfully perturbed\n",
            "robust accuracy after FAB-T: 29.40% (total time 497.6 s)\n",
            "square - 1/1 - 0 out of 294 successfully perturbed\n",
            "robust accuracy after SQUARE: 29.40% (total time 867.3 s)\n",
            "max Linf perturbation: 2.42907, nan in tensor: 0, max: 2.75373, min: -2.42907\n",
            "robust accuracy: 29.40%\n"
          ]
        }
      ],
      "source": [
        "norm = \"Linf\"\n",
        "epsilon = 4/255\n",
        "! python /content/auto-attack/autoattack/examples/eval.py --epsilon $epsilon --norm $norm"
      ]
    },
    {
      "cell_type": "markdown",
      "metadata": {
        "id": "r_zZEAEKDWYl"
      },
      "source": [
        "## Epsilon = 6/255"
      ]
    },
    {
      "cell_type": "code",
      "execution_count": 18,
      "metadata": {
        "colab": {
          "base_uri": "https://localhost:8080/"
        },
        "id": "dOrdmehRDcTV",
        "outputId": "3d9a1340-26cd-4ae9-b774-b0439e27b03e"
      },
      "outputs": [
        {
          "name": "stdout",
          "output_type": "stream",
          "text": [
            "Files already downloaded and verified\n",
            "setting parameters for standard version\n",
            "using standard version including apgd-ce, apgd-t, fab-t, square.\n",
            "initial accuracy: 93.80%\n",
            "apgd-ce - 1/2 - 394 out of 500 successfully perturbed\n",
            "apgd-ce - 2/2 - 345 out of 438 successfully perturbed\n",
            "robust accuracy after APGD-CE: 19.90% (total time 55.7 s)\n",
            "apgd-t - 1/1 - 0 out of 199 successfully perturbed\n",
            "robust accuracy after APGD-T: 19.90% (total time 164.5 s)\n",
            "fab-t - 1/1 - 0 out of 199 successfully perturbed\n",
            "robust accuracy after FAB-T: 19.90% (total time 362.0 s)\n",
            "square - 1/1 - 0 out of 199 successfully perturbed\n",
            "robust accuracy after SQUARE: 19.90% (total time 615.9 s)\n",
            "max Linf perturbation: 2.42907, nan in tensor: 0, max: 2.75373, min: -2.42907\n",
            "robust accuracy: 19.90%\n"
          ]
        }
      ],
      "source": [
        "epsilon = 6/255\n",
        "norm = \"Linf\"\n",
        "! python /content/auto-attack/autoattack/examples/eval.py --epsilon $epsilon --norm $norm"
      ]
    },
    {
      "cell_type": "markdown",
      "metadata": {
        "id": "Pu9rv73ZDZzd"
      },
      "source": [
        "## Epsilon = 8/255"
      ]
    },
    {
      "cell_type": "code",
      "execution_count": 19,
      "metadata": {
        "colab": {
          "base_uri": "https://localhost:8080/"
        },
        "id": "hRQIK4KuDeI2",
        "outputId": "3a111268-886e-44b8-c2bb-bccd6125d825"
      },
      "outputs": [
        {
          "name": "stdout",
          "output_type": "stream",
          "text": [
            "Files already downloaded and verified\n",
            "setting parameters for standard version\n",
            "using standard version including apgd-ce, apgd-t, fab-t, square.\n",
            "initial accuracy: 93.80%\n",
            "apgd-ce - 1/2 - 435 out of 500 successfully perturbed\n",
            "apgd-ce - 2/2 - 386 out of 438 successfully perturbed\n",
            "robust accuracy after APGD-CE: 11.70% (total time 55.8 s)\n",
            "apgd-t - 1/1 - 2 out of 117 successfully perturbed\n",
            "robust accuracy after APGD-T: 11.50% (total time 112.9 s)\n",
            "fab-t - 1/1 - 0 out of 115 successfully perturbed\n",
            "robust accuracy after FAB-T: 11.50% (total time 223.8 s)\n",
            "square - 1/1 - 0 out of 115 successfully perturbed\n",
            "robust accuracy after SQUARE: 11.50% (total time 377.8 s)\n",
            "max Linf perturbation: 2.42907, nan in tensor: 0, max: 2.75373, min: -2.42907\n",
            "robust accuracy: 11.50%\n"
          ]
        }
      ],
      "source": [
        "epsilon = 8/255\n",
        "norm = \"Linf\"\n",
        "! python /content/auto-attack/autoattack/examples/eval.py --epsilon $epsilon --norm $norm"
      ]
    }
  ],
  "metadata": {
    "accelerator": "GPU",
    "colab": {
      "gpuType": "T4",
      "provenance": []
    },
    "kernelspec": {
      "display_name": "Python 3",
      "name": "python3"
    },
    "language_info": {
      "name": "python"
    }
  },
  "nbformat": 4,
  "nbformat_minor": 0
}
